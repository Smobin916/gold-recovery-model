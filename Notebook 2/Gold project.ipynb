{
 "cells": [
  {
   "cell_type": "markdown",
   "metadata": {},
   "source": [
    "<div style=\"border-radius: 15px; border: 3px solid indigo; padding: 15px;\">\n",
    "<b> Reviewer's comment 5 </b>\n",
    "    \n",
    "Thank you very much for your diligence! I did not leave any new comments this time, and there's nothing that needs to be fixed. I only want to note that I stopped code execution to run your project on my local machine, since it's usually a bit faster. This is a very hard, but you did an excellent job here! The project is accepted, good luck! \n",
    "    \n",
    "    \n",
    "\n",
    "</div>"
   ]
  },
  {
   "cell_type": "markdown",
   "metadata": {},
   "source": [
    "<div style=\"border-radius: 15px; border: 3px solid indigo; padding: 15px;\">\n",
    "<b> Reviewer's comment 4 </b>\n",
    "    \n",
    "Thank you very much for the updates! However, one of the cells does not work. Please run the whole project when you change the code to make sure each cell works fine :) \n",
    "    \n",
    "\n",
    "</div>"
   ]
  },
  {
   "cell_type": "markdown",
   "metadata": {},
   "source": [
    "\n",
    "<div style=\"border-radius: 15px; border: 3px solid indigo; padding: 15px;\">\n",
    "<b> Reviewer's comment 3</b>\n",
    "\n",
    "\n",
    "The issue with the target variable (`y_train`) is not fixed. Did I receive the correct version of the project? \n",
    "    \n",
    "\n",
    "    \n",
    "</div>"
   ]
  },
  {
   "cell_type": "markdown",
   "metadata": {},
   "source": [
    "\n",
    "<div style=\"border-radius: 15px; border: 3px solid indigo; padding: 15px;\">\n",
    "<b> Reviewer's comment 2</b>\n",
    "\n",
    "\n",
    "Thank you for sending the updated version of the project 😊 You did a great job! I really appreciate the time you took to make these improvements. However, there is still an issue that needs your attention. I described everything in my new comments titled as **Reviewer's comment 2**. Please take a look :)\n",
    "    \n",
    "\n",
    "    \n",
    "</div>"
   ]
  },
  {
   "cell_type": "markdown",
   "metadata": {},
   "source": [
    "<div style=\"border-radius: 15px; border: 3px solid indigo; padding: 15px;\">\n",
    "<b> Reviewer's comment</b>\n",
    "    \n",
    "Hi Robin, I am a reviewer on this project. Congratulations on submitting another project! 🎉\n",
    "    \n",
    "\n",
    "Before we start, I want to pay your attention to the color marking:\n",
    "    \n",
    "<div class=\"alert alert-success\" style=\"border-radius: 15px; box-shadow: 4px 4px 4px; border: 1px solid \">\n",
    "<b> Reviewer's comment </b>\n",
    "    \n",
    "Great solutions and ideas that can and should be used in the future are in green comments.   \n",
    "</div>    \n",
    "    \n",
    "    \n",
    "<div class=\"alert alert-warning\" style=\"border-radius: 15px; box-shadow: 4px 4px 4px; border: 1px solid \">\n",
    "<b> Reviewer's comment </b>\n",
    "\n",
    "Yellow color indicates what should be optimized. This is not necessary, but it will be great if you make changes to this project.\n",
    "</div>      \n",
    "    \n",
    "    \n",
    "<div class=\"alert alert-danger\" style=\"border-radius: 15px; box-shadow: 4px 4px 4px; border: 1px solid \">\n",
    "<b> Reviewer's comment </b>\n",
    "\n",
    "Issues that need to be corrected to get right results are indicated in red comments. Note that the project cannot be accepted until these issues are resolved.\n",
    "</div>    \n",
    "\n",
    "<hr>\n",
    "    \n",
    "**Please, use some color other than those listed to highlight answers to my comments.**\n",
    "I would also ask you **not to change, move or delete my comments** so that it would be easier for me to navigate during the next review.\n",
    "    \n",
    "In addition, my comments are defined as headings. \n",
    "They can mess up the content; however, they are convenient, since you can immediately go to them. I will remove the headings from my comments in the next review if you ask me to. \n",
    "   \n",
    "    \n",
    "    \n",
    "<hr>\n",
    "    \n",
    "<font color='dodgerblue'>**A few words about the project:**</font> you did a good job here, thank you so much! You have trained a model and defined several functions to analyze columns, well done! However, there are several issues that need your attention. Would you please take a look at my comments? I tried to explain each issue that needs to be fixed. \n",
    "    \n",
    "    \n",
    "    \n",
    "    \n",
    "<hr>\n",
    "    \n",
    "Please feel free to schedule a 1:1 with our tutors or TAs, join daily coworking sessions, or ask questions in the sprint channels on Discord if you need assistance. \n",
    "\n",
    "</div>"
   ]
  },
  {
   "cell_type": "markdown",
   "metadata": {},
   "source": [
    "# Project Introduction\n",
    "This project aims to build a predictive model for gold recovery from raw material inputs. The data is provided in three files: `gold_recovery_train.csv`, `gold_recovery_test.csv`, and `gold_recovery_full.csv`. The goal is to ensure the correctness of the data, analyze the features, and build a model that accurately predicts gold recovery.\n"
   ]
  },
  {
   "cell_type": "markdown",
   "metadata": {},
   "source": [
    "<div class=\"alert alert-success\" style=\"border-radius: 15px; box-shadow: 4px 4px 4px; border: 1px solid \">\n",
    "<h2>   Reviewer's comment </h2>\n",
    "    \n",
    "Good introduction! \n",
    "    \n",
    "</div>"
   ]
  },
  {
   "cell_type": "code",
   "execution_count": 1,
   "metadata": {},
   "outputs": [],
   "source": [
    "import pandas as pd\n",
    "import numpy as np \n",
    "from sklearn.metrics import mean_absolute_error\n",
    "from sklearn.model_selection import cross_val_score, train_test_split \n",
    "from sklearn.ensemble import RandomForestRegressor\n",
    "import matplotlib.pyplot as plt\n",
    "from sklearn.metrics import make_scorer\n",
    "from sklearn.model_selection import train_test_split\n",
    "from sklearn.ensemble import RandomForestRegressor \n",
    "from sklearn.model_selection import GridSearchCV\n",
    "from sklearn.ensemble import GradientBoostingRegressor\n",
    "from sklearn.impute import SimpleImputer"
   ]
  },
  {
   "cell_type": "code",
   "execution_count": 2,
   "metadata": {
    "collapsed": true
   },
   "outputs": [
    {
     "name": "stdout",
     "output_type": "stream",
     "text": [
      "Train Data:\n",
      "                  date  final.output.concentrate_ag  \\\n",
      "0  2016-01-15 00:00:00                     6.055403   \n",
      "1  2016-01-15 01:00:00                     6.029369   \n",
      "2  2016-01-15 02:00:00                     6.055926   \n",
      "3  2016-01-15 03:00:00                     6.047977   \n",
      "4  2016-01-15 04:00:00                     6.148599   \n",
      "\n",
      "   final.output.concentrate_pb  final.output.concentrate_sol  \\\n",
      "0                     9.889648                      5.507324   \n",
      "1                     9.968944                      5.257781   \n",
      "2                    10.213995                      5.383759   \n",
      "3                     9.977019                      4.858634   \n",
      "4                    10.142511                      4.939416   \n",
      "\n",
      "   final.output.concentrate_au  final.output.recovery  final.output.tail_ag  \\\n",
      "0                    42.192020              70.541216             10.411962   \n",
      "1                    42.701629              69.266198             10.462676   \n",
      "2                    42.657501              68.116445             10.507046   \n",
      "3                    42.689819              68.347543             10.422762   \n",
      "4                    42.774141              66.927016             10.360302   \n",
      "\n",
      "   final.output.tail_pb  final.output.tail_sol  final.output.tail_au  ...  \\\n",
      "0              0.895447              16.904297              2.143149  ...   \n",
      "1              0.927452              16.634514              2.224930  ...   \n",
      "2              0.953716              16.208849              2.257889  ...   \n",
      "3              0.883763              16.532835              2.146849  ...   \n",
      "4              0.792826              16.525686              2.055292  ...   \n",
      "\n",
      "   secondary_cleaner.state.floatbank4_a_air  \\\n",
      "0                                 14.016835   \n",
      "1                                 13.992281   \n",
      "2                                 14.015015   \n",
      "3                                 14.036510   \n",
      "4                                 14.027298   \n",
      "\n",
      "   secondary_cleaner.state.floatbank4_a_level  \\\n",
      "0                                 -502.488007   \n",
      "1                                 -505.503262   \n",
      "2                                 -502.520901   \n",
      "3                                 -500.857308   \n",
      "4                                 -499.838632   \n",
      "\n",
      "   secondary_cleaner.state.floatbank4_b_air  \\\n",
      "0                                 12.099931   \n",
      "1                                 11.950531   \n",
      "2                                 11.912783   \n",
      "3                                 11.999550   \n",
      "4                                 11.953070   \n",
      "\n",
      "   secondary_cleaner.state.floatbank4_b_level  \\\n",
      "0                                 -504.715942   \n",
      "1                                 -501.331529   \n",
      "2                                 -501.133383   \n",
      "3                                 -501.193686   \n",
      "4                                 -501.053894   \n",
      "\n",
      "   secondary_cleaner.state.floatbank5_a_air  \\\n",
      "0                                  9.925633   \n",
      "1                                 10.039245   \n",
      "2                                 10.070913   \n",
      "3                                  9.970366   \n",
      "4                                  9.925709   \n",
      "\n",
      "   secondary_cleaner.state.floatbank5_a_level  \\\n",
      "0                                 -498.310211   \n",
      "1                                 -500.169983   \n",
      "2                                 -500.129135   \n",
      "3                                 -499.201640   \n",
      "4                                 -501.686727   \n",
      "\n",
      "   secondary_cleaner.state.floatbank5_b_air  \\\n",
      "0                                  8.079666   \n",
      "1                                  7.984757   \n",
      "2                                  8.013877   \n",
      "3                                  7.977324   \n",
      "4                                  7.894242   \n",
      "\n",
      "   secondary_cleaner.state.floatbank5_b_level  \\\n",
      "0                                 -500.470978   \n",
      "1                                 -500.582168   \n",
      "2                                 -500.517572   \n",
      "3                                 -500.255908   \n",
      "4                                 -500.356035   \n",
      "\n",
      "   secondary_cleaner.state.floatbank6_a_air  \\\n",
      "0                                 14.151341   \n",
      "1                                 13.998353   \n",
      "2                                 14.028663   \n",
      "3                                 14.005551   \n",
      "4                                 13.996647   \n",
      "\n",
      "   secondary_cleaner.state.floatbank6_a_level  \n",
      "0                                 -605.841980  \n",
      "1                                 -599.787184  \n",
      "2                                 -601.427363  \n",
      "3                                 -599.996129  \n",
      "4                                 -601.496691  \n",
      "\n",
      "[5 rows x 87 columns]\n",
      "\n",
      "Test Data:\n",
      "                  date  primary_cleaner.input.sulfate  \\\n",
      "0  2016-09-01 00:59:59                     210.800909   \n",
      "1  2016-09-01 01:59:59                     215.392455   \n",
      "2  2016-09-01 02:59:59                     215.259946   \n",
      "3  2016-09-01 03:59:59                     215.336236   \n",
      "4  2016-09-01 04:59:59                     199.099327   \n",
      "\n",
      "   primary_cleaner.input.depressant  primary_cleaner.input.feed_size  \\\n",
      "0                         14.993118                         8.080000   \n",
      "1                         14.987471                         8.080000   \n",
      "2                         12.884934                         7.786667   \n",
      "3                         12.006805                         7.640000   \n",
      "4                         10.682530                         7.530000   \n",
      "\n",
      "   primary_cleaner.input.xanthate  primary_cleaner.state.floatbank8_a_air  \\\n",
      "0                        1.005021                             1398.981301   \n",
      "1                        0.990469                             1398.777912   \n",
      "2                        0.996043                             1398.493666   \n",
      "3                        0.863514                             1399.618111   \n",
      "4                        0.805575                             1401.268123   \n",
      "\n",
      "   primary_cleaner.state.floatbank8_a_level  \\\n",
      "0                               -500.225577   \n",
      "1                               -500.057435   \n",
      "2                               -500.868360   \n",
      "3                               -498.863574   \n",
      "4                               -500.808305   \n",
      "\n",
      "   primary_cleaner.state.floatbank8_b_air  \\\n",
      "0                             1399.144926   \n",
      "1                             1398.055362   \n",
      "2                             1398.860436   \n",
      "3                             1397.440120   \n",
      "4                             1398.128818   \n",
      "\n",
      "   primary_cleaner.state.floatbank8_b_level  \\\n",
      "0                               -499.919735   \n",
      "1                               -499.778182   \n",
      "2                               -499.764529   \n",
      "3                               -499.211024   \n",
      "4                               -499.504543   \n",
      "\n",
      "   primary_cleaner.state.floatbank8_c_air  ...  \\\n",
      "0                             1400.102998  ...   \n",
      "1                             1396.151033  ...   \n",
      "2                             1398.075709  ...   \n",
      "3                             1400.129303  ...   \n",
      "4                             1402.172226  ...   \n",
      "\n",
      "   secondary_cleaner.state.floatbank4_a_air  \\\n",
      "0                                 12.023554   \n",
      "1                                 12.058140   \n",
      "2                                 11.962366   \n",
      "3                                 12.033091   \n",
      "4                                 12.025367   \n",
      "\n",
      "   secondary_cleaner.state.floatbank4_a_level  \\\n",
      "0                                 -497.795834   \n",
      "1                                 -498.695773   \n",
      "2                                 -498.767484   \n",
      "3                                 -498.350935   \n",
      "4                                 -500.786497   \n",
      "\n",
      "   secondary_cleaner.state.floatbank4_b_air  \\\n",
      "0                                  8.016656   \n",
      "1                                  8.130979   \n",
      "2                                  8.096893   \n",
      "3                                  8.074946   \n",
      "4                                  8.054678   \n",
      "\n",
      "   secondary_cleaner.state.floatbank4_b_level  \\\n",
      "0                                 -501.289139   \n",
      "1                                 -499.634209   \n",
      "2                                 -500.827423   \n",
      "3                                 -499.474407   \n",
      "4                                 -500.397500   \n",
      "\n",
      "   secondary_cleaner.state.floatbank5_a_air  \\\n",
      "0                                  7.946562   \n",
      "1                                  7.958270   \n",
      "2                                  8.071056   \n",
      "3                                  7.897085   \n",
      "4                                  8.107890   \n",
      "\n",
      "   secondary_cleaner.state.floatbank5_a_level  \\\n",
      "0                                 -432.317850   \n",
      "1                                 -525.839648   \n",
      "2                                 -500.801673   \n",
      "3                                 -500.868509   \n",
      "4                                 -509.526725   \n",
      "\n",
      "   secondary_cleaner.state.floatbank5_b_air  \\\n",
      "0                                  4.872511   \n",
      "1                                  4.878850   \n",
      "2                                  4.905125   \n",
      "3                                  4.931400   \n",
      "4                                  4.957674   \n",
      "\n",
      "   secondary_cleaner.state.floatbank5_b_level  \\\n",
      "0                                 -500.037437   \n",
      "1                                 -500.162375   \n",
      "2                                 -499.828510   \n",
      "3                                 -499.963623   \n",
      "4                                 -500.360026   \n",
      "\n",
      "   secondary_cleaner.state.floatbank6_a_air  \\\n",
      "0                                 26.705889   \n",
      "1                                 25.019940   \n",
      "2                                 24.994862   \n",
      "3                                 24.948919   \n",
      "4                                 25.003331   \n",
      "\n",
      "   secondary_cleaner.state.floatbank6_a_level  \n",
      "0                                 -499.709414  \n",
      "1                                 -499.819438  \n",
      "2                                 -500.622559  \n",
      "3                                 -498.709987  \n",
      "4                                 -500.856333  \n",
      "\n",
      "[5 rows x 53 columns]\n",
      "\n",
      "Full Data:\n",
      "                  date  final.output.concentrate_ag  \\\n",
      "0  2016-01-15 00:00:00                     6.055403   \n",
      "1  2016-01-15 01:00:00                     6.029369   \n",
      "2  2016-01-15 02:00:00                     6.055926   \n",
      "3  2016-01-15 03:00:00                     6.047977   \n",
      "4  2016-01-15 04:00:00                     6.148599   \n",
      "\n",
      "   final.output.concentrate_pb  final.output.concentrate_sol  \\\n",
      "0                     9.889648                      5.507324   \n",
      "1                     9.968944                      5.257781   \n",
      "2                    10.213995                      5.383759   \n",
      "3                     9.977019                      4.858634   \n",
      "4                    10.142511                      4.939416   \n",
      "\n",
      "   final.output.concentrate_au  final.output.recovery  final.output.tail_ag  \\\n",
      "0                    42.192020              70.541216             10.411962   \n",
      "1                    42.701629              69.266198             10.462676   \n",
      "2                    42.657501              68.116445             10.507046   \n",
      "3                    42.689819              68.347543             10.422762   \n",
      "4                    42.774141              66.927016             10.360302   \n",
      "\n",
      "   final.output.tail_pb  final.output.tail_sol  final.output.tail_au  ...  \\\n",
      "0              0.895447              16.904297              2.143149  ...   \n",
      "1              0.927452              16.634514              2.224930  ...   \n",
      "2              0.953716              16.208849              2.257889  ...   \n",
      "3              0.883763              16.532835              2.146849  ...   \n",
      "4              0.792826              16.525686              2.055292  ...   \n",
      "\n",
      "   secondary_cleaner.state.floatbank4_a_air  \\\n",
      "0                                 14.016835   \n",
      "1                                 13.992281   \n",
      "2                                 14.015015   \n",
      "3                                 14.036510   \n",
      "4                                 14.027298   \n",
      "\n",
      "   secondary_cleaner.state.floatbank4_a_level  \\\n",
      "0                                 -502.488007   \n",
      "1                                 -505.503262   \n",
      "2                                 -502.520901   \n",
      "3                                 -500.857308   \n",
      "4                                 -499.838632   \n",
      "\n",
      "   secondary_cleaner.state.floatbank4_b_air  \\\n",
      "0                                 12.099931   \n",
      "1                                 11.950531   \n",
      "2                                 11.912783   \n",
      "3                                 11.999550   \n",
      "4                                 11.953070   \n",
      "\n",
      "   secondary_cleaner.state.floatbank4_b_level  \\\n",
      "0                                 -504.715942   \n",
      "1                                 -501.331529   \n",
      "2                                 -501.133383   \n",
      "3                                 -501.193686   \n",
      "4                                 -501.053894   \n",
      "\n",
      "   secondary_cleaner.state.floatbank5_a_air  \\\n",
      "0                                  9.925633   \n",
      "1                                 10.039245   \n",
      "2                                 10.070913   \n",
      "3                                  9.970366   \n",
      "4                                  9.925709   \n",
      "\n",
      "   secondary_cleaner.state.floatbank5_a_level  \\\n",
      "0                                 -498.310211   \n",
      "1                                 -500.169983   \n",
      "2                                 -500.129135   \n",
      "3                                 -499.201640   \n",
      "4                                 -501.686727   \n",
      "\n",
      "   secondary_cleaner.state.floatbank5_b_air  \\\n",
      "0                                  8.079666   \n",
      "1                                  7.984757   \n",
      "2                                  8.013877   \n",
      "3                                  7.977324   \n",
      "4                                  7.894242   \n",
      "\n",
      "   secondary_cleaner.state.floatbank5_b_level  \\\n",
      "0                                 -500.470978   \n",
      "1                                 -500.582168   \n",
      "2                                 -500.517572   \n",
      "3                                 -500.255908   \n",
      "4                                 -500.356035   \n",
      "\n",
      "   secondary_cleaner.state.floatbank6_a_air  \\\n",
      "0                                 14.151341   \n",
      "1                                 13.998353   \n",
      "2                                 14.028663   \n",
      "3                                 14.005551   \n",
      "4                                 13.996647   \n",
      "\n",
      "   secondary_cleaner.state.floatbank6_a_level  \n",
      "0                                 -605.841980  \n",
      "1                                 -599.787184  \n",
      "2                                 -601.427363  \n",
      "3                                 -599.996129  \n",
      "4                                 -601.496691  \n",
      "\n",
      "[5 rows x 87 columns]\n"
     ]
    }
   ],
   "source": [
    "# Load the datasets\n",
    "train_data = pd.read_csv('/datasets/gold_recovery_train.csv')\n",
    "test_data = pd.read_csv('/datasets/gold_recovery_test.csv')\n",
    "full_data = pd.read_csv('/datasets/gold_recovery_full.csv')\n",
    "\n",
    "# Display the first few rows of each dataset\n",
    "print(\"Train Data:\")\n",
    "print(train_data.head())\n",
    "\n",
    "print(\"\\nTest Data:\")\n",
    "print(test_data.head())\n",
    "\n",
    "print(\"\\nFull Data:\")\n",
    "print(full_data.head())\n",
    "\n"
   ]
  },
  {
   "cell_type": "code",
   "execution_count": 3,
   "metadata": {
    "scrolled": true
   },
   "outputs": [
    {
     "name": "stdout",
     "output_type": "stream",
     "text": [
      "MAE for final.output.recovery: 8.604728930047722\n",
      "MAE for rougher.output.recovery: 9.317053768151204e-15\n"
     ]
    }
   ],
   "source": [
    "\n",
    "\n",
    "# Drop rows with missing values from target columns\n",
    "train_data.dropna(subset=['rougher.output.recovery', 'final.output.recovery'], inplace=True)\n",
    "\n",
    "# Perform data preprocessing\n",
    "def preprocess_data(data):\n",
    "    # Drop the datetime column if it exists\n",
    "    if 'date' in data.columns:\n",
    "        data = data.drop(columns=['date'])\n",
    "    # Forward fill missing values\n",
    "    data = data.ffill()\n",
    "    # Replace infinite values with NaN\n",
    "    data.replace([np.inf, -np.inf], np.nan, inplace=True)\n",
    "    # Forward fill NaN values again\n",
    "    data = data.ffill()\n",
    "    return data\n",
    "\n",
    "# Preprocess the data\n",
    "train_data = preprocess_data(train_data)\n",
    "test_data = preprocess_data(test_data)\n",
    "full_data = preprocess_data(full_data)\n",
    "\n",
    "# Define the calculate_recovery function\n",
    "def calculate_recovery(input_feed, output_concentrate, tailings):\n",
    "    return (output_concentrate * (input_feed - tailings)) / (input_feed * (output_concentrate - tailings)) * 100\n",
    "\n",
    "# Define the targets\n",
    "y_train_rougher = train_data['rougher.output.recovery']\n",
    "y_train_final = train_data['final.output.recovery']\n",
    "\n",
    "# Calculate recovery for rougher.output.recovery\n",
    "train_data['calculated_rougher_recovery'] = calculate_recovery(\n",
    "    train_data['rougher.input.feed_au'],\n",
    "    train_data['rougher.output.concentrate_au'],\n",
    "    train_data['rougher.output.tail_au']\n",
    ")\n",
    "\n",
    "# Use alternative columns for final.output.recovery calculation\n",
    "if 'primary_cleaner.input.feed_size' in train_data.columns:\n",
    "    train_data['calculated_final_recovery'] = calculate_recovery(\n",
    "        train_data['primary_cleaner.input.feed_size'],\n",
    "        train_data['final.output.concentrate_au'],\n",
    "        train_data['final.output.tail_au']\n",
    "    )\n",
    "    # Calculate MAE for final.output.recovery\n",
    "    mae_final = mean_absolute_error(y_train_final, train_data['calculated_final_recovery'])\n",
    "    print(f'MAE for final.output.recovery: {mae_final}')\n",
    "else:\n",
    "    print(\"'primary_cleaner.input.feed_size' column not found in the dataset.\")\n",
    "\n",
    "# Calculate MAE for rougher.output.recovery\n",
    "mae_rougher = mean_absolute_error(y_train_rougher, train_data['calculated_rougher_recovery'])\n",
    "print(f'MAE for rougher.output.recovery: {mae_rougher}')\n"
   ]
  },
  {
   "cell_type": "code",
   "execution_count": 4,
   "metadata": {},
   "outputs": [
    {
     "name": "stdout",
     "output_type": "stream",
     "text": [
      "Features not available in the test set: {'calculated_final_recovery', 'final.output.tail_pb', 'rougher.output.tail_pb', 'final.output.tail_sol', 'rougher.output.concentrate_au', 'rougher.output.concentrate_sol', 'rougher.calculation.au_pb_ratio', 'rougher.output.tail_sol', 'rougher.output.tail_au', 'primary_cleaner.output.concentrate_au', 'final.output.concentrate_sol', 'rougher.output.recovery', 'secondary_cleaner.output.tail_sol', 'final.output.concentrate_ag', 'final.output.tail_ag', 'primary_cleaner.output.tail_au', 'calculated_rougher_recovery', 'rougher.calculation.sulfate_to_au_concentrate', 'primary_cleaner.output.concentrate_sol', 'secondary_cleaner.output.tail_ag', 'primary_cleaner.output.tail_pb', 'rougher.calculation.floatbank10_sulfate_to_au_feed', 'rougher.output.tail_ag', 'primary_cleaner.output.concentrate_ag', 'final.output.concentrate_pb', 'primary_cleaner.output.tail_ag', 'secondary_cleaner.output.tail_pb', 'rougher.output.concentrate_pb', 'secondary_cleaner.output.tail_au', 'primary_cleaner.output.tail_sol', 'rougher.output.concentrate_ag', 'primary_cleaner.output.concentrate_pb', 'final.output.concentrate_au', 'rougher.calculation.floatbank11_sulfate_to_au_feed', 'final.output.tail_au', 'final.output.recovery'}\n"
     ]
    }
   ],
   "source": [
    "# 1.3 Analyze the features not available in the test set\n",
    "missing_features = set(train_data.columns) - set(test_data.columns)\n",
    "print(f'Features not available in the test set: {missing_features}')\n"
   ]
  },
  {
   "cell_type": "markdown",
   "metadata": {},
   "source": [
    "These columns contain important information about the concentrations of various metals and solids at different stages of the purification process, as well as calculated ratios and recovery percentages. However, since they are not available in the test set, we cannot use them for training and testing the model. Instead, we focus on the common features available in both the training and test sets to build and evaluate the model."
   ]
  },
  {
   "cell_type": "markdown",
   "metadata": {},
   "source": [
    "<div class=\"alert alert-success\" style=\"border-radius: 15px; box-shadow: 4px 4px 4px; border: 1px solid \">\n",
    "<h2>   Reviewer's comment </h2>\n",
    "    \n",
    "Good! \n",
    "    \n",
    "</div>\n",
    "<div class=\"alert alert-danger\" style=\"border-radius: 15px; box-shadow: 4px 4px 4px; border: 1px solid \">\n",
    "<b>   Reviewer's comment </b>\n",
    "    \n",
    "What can you say about these columns?     \n",
    "</div>\n",
    "<div class=\"alert alert-success\" style=\"border-radius: 15px; box-shadow: 4px 4px 4px; border: 1px solid \">\n",
    "<h2>   Reviewer's comment 2 </h2>\n",
    "    \n",
    "Exactly! \n",
    "    \n",
    "</div>"
   ]
  },
  {
   "cell_type": "markdown",
   "metadata": {},
   "source": [
    "<div class=\"alert alert-danger\" style=\"border-radius: 15px; box-shadow: 4px 4px 4px; border: 1px solid \">\n",
    "<b>   Reviewer's comment 3 </b>\n",
    "\n",
    "    \n",
    "> `y_train = train_data['final.output.recovery']`\n",
    "    \n",
    "Would you please explain why you take one target when we have two? \n",
    "\n",
    "</div>"
   ]
  },
  {
   "cell_type": "markdown",
   "metadata": {},
   "source": [
    "<div class=\"alert alert-success\" style=\"border-radius: 15px; box-shadow: 4px 4px 4px; border: 1px solid \">\n",
    "<h2>   Reviewer's comment 2 </h2>\n",
    "    \n",
    "You have correctly replaced missing values!     \n",
    "</div>\n",
    "<div class=\"alert alert-danger\" style=\"border-radius: 15px; box-shadow: 4px 4px 4px; border: 1px solid \">\n",
    "<b>   Reviewer's comment 2 </b>\n",
    "\n",
    "    \n",
    "> `y_train = train_data['final.output.recovery']`\n",
    "    \n",
    "We have two targets.     \n",
    "</div>"
   ]
  },
  {
   "cell_type": "markdown",
   "metadata": {},
   "source": [
    "<div class=\"alert alert-danger\" style=\"border-radius: 15px; box-shadow: 4px 4px 4px; border: 1px solid \">\n",
    "<b> Reviewer's comment 4</b>\n",
    "    \n",
    "Please make sure each cell works fine before you send a project for review :) \n",
    "    \n",
    "    \n",
    "</div>"
   ]
  },
  {
   "cell_type": "markdown",
   "metadata": {},
   "source": [
    "<div class=\"alert alert-danger\" style=\"border-radius: 15px; box-shadow: 4px 4px 4px; border: 1px solid \">\n",
    "<b>   Reviewer's comment </b>\n",
    "    \n",
    "- It is not a good idea to drop so many rows. Let's try to fill in the gaps. `ffill` should work fine here, but don't forget to drop missing values from target columns before replacing the missing values. \n",
    "    \n",
    "\n",
    "\n",
    "\n",
    "- Before we move on to the concentration analysis, we need to validate data. Please use the recovery formula and calculate MAE. \n",
    "\n",
    "\n",
    "- We have two targets. </div>"
   ]
  },
  {
   "cell_type": "code",
   "execution_count": 5,
   "metadata": {},
   "outputs": [
    {
     "data": {
      "image/png": "[encoded data removed]",
      "text/plain": [
       "<Figure size 1500x500 with 1 Axes>"
      ]
     },
     "metadata": {},
     "output_type": "display_data"
    },
    {
     "data": {
      "image/png": "[encoded data removed]",
      "text/plain": [
       "<Figure size 1500x500 with 1 Axes>"
      ]
     },
     "metadata": {},
     "output_type": "display_data"
    },
    {
     "data": {
      "image/png": "[encoded data removed]",
      "text/plain": [
       "<Figure size 1500x500 with 1 Axes>"
      ]
     },
     "metadata": {},
     "output_type": "display_data"
    }
   ],
   "source": [
    "def analyze_metal_concentrations(data):\n",
    "    stages = ['rougher', 'primary_cleaner', 'final']\n",
    "    metals = ['au', 'ag', 'pb']\n",
    "    for metal in metals:\n",
    "        plt.figure(figsize=(15, 5))\n",
    "        for stage in stages:\n",
    "            column_name = f\"{stage}.output.concentrate_{metal}\"\n",
    "            if column_name in data.columns:\n",
    "                plt.hist(data[column_name], bins=50, alpha=0.5, label=f'{stage} {metal}')\n",
    "            else:\n",
    "                print(f'{column_name} not found in the dataset.')\n",
    "        plt.title(f'Concentration of {metal.upper()} at Different Stages')\n",
    "        plt.xlabel('Concentration')\n",
    "        plt.ylabel('Frequency')\n",
    "        plt.legend()\n",
    "        plt.show()\n",
    "\n",
    "analyze_metal_concentrations(train_data)\n"
   ]
  },
  {
   "cell_type": "markdown",
   "metadata": {},
   "source": [
    "By analyzing the histograms, we can infer the following:\n",
    "\n",
    "**Gold (Au) Concentration**:\n",
    "\n",
    "The concentration of gold typically increases from the rougher stage to the primary cleaner stage and finally to the final output stage.\n",
    "\n",
    "This indicates that the purification process is effective in increasing the concentration of gold at each stage.\n",
    "\n",
    "**Silver (Ag) Concentration**:\n",
    "\n",
    "The concentration of silver may show a similar trend, increasing from the rougher stage to the primary cleaner stage and finally to the final output stage.\n",
    "\n",
    "This suggests that the purification process is also effective in increasing the concentration of silver.\n",
    "\n",
    "**Lead (Pb) Concentration**:\n",
    "\n",
    "The concentration of lead may vary depending on the effectiveness of the purification process for lead.\n",
    "\n",
    "If the concentration of lead decreases from the rougher stage to the final output stage, it indicates that the process is effective in removing lead impurities.\n",
    "\n",
    "By visualizing the histograms, we can gain insights into the effectiveness of the purification process for each metal and identify any potential areas for improvement."
   ]
  },
  {
   "cell_type": "markdown",
   "metadata": {},
   "source": [
    "<div class=\"alert alert-success\" style=\"border-radius: 15px; box-shadow: 4px 4px 4px; border: 1px solid \">\n",
    "<h2>   Reviewer's comment 2 </h2>\n",
    "    \n",
    "Well done! \n",
    "\n",
    "</div>\n",
    "<div class=\"alert alert-danger\" style=\"border-radius: 15px; box-shadow: 4px 4px 4px; border: 1px solid \">\n",
    "<b>   Reviewer's comment </b>\n",
    "    \n",
    "- Let's analyze histograms as well.  For this purpose, please use  `primary_cleaner.output.concentrate_`, `rougher.output.concentrate_`, and `final.output.concentrate_` columns for each of the three metals. We need to see how concentration changes from stage to stage for each metal.\n",
    "\n",
    "\n",
    "- What can be inferred from the results? </div>"
   ]
  },
  {
   "cell_type": "code",
   "execution_count": 6,
   "metadata": {},
   "outputs": [
    {
     "data": {
      "image/png": "[encoded data removed]",
      "text/plain": [
       "<Figure size 1200x600 with 1 Axes>"
      ]
     },
     "metadata": {},
     "output_type": "display_data"
    }
   ],
   "source": [
    "def compare_particle_size_distributions(train, test):\n",
    "    train_size = train['rougher.input.feed_size']\n",
    "    test_size = test['rougher.input.feed_size']\n",
    "    \n",
    "  \n",
    "    # Plot histograms\n",
    "    plt.figure(figsize=(12, 6))\n",
    "    plt.hist(train_size, bins=50, alpha=0.5, label='Train Feed Size')\n",
    "    plt.hist(test_size, bins=50, alpha=0.5, label='Test Feed Size')\n",
    "    plt.title('Feed Particle Size Distribution')\n",
    "    plt.xlabel('Feed Size')\n",
    "    plt.ylabel('Frequency')\n",
    "    plt.legend()\n",
    "    plt.show()\n",
    "\n",
    "compare_particle_size_distributions(train_data, test_data)\n"
   ]
  },
  {
   "cell_type": "markdown",
   "metadata": {},
   "source": [
    "By analyzing the histograms, we can infer the following:\n",
    "\n",
    "**Consistency**: If the histograms for the training and test datasets are similar, it indicates that the feed particle size distributions are consistent across both datasets. This is important for ensuring that the model trained on the training data will perform well on the test data.\n",
    "\n",
    "**Differences**: If there are significant differences between the histograms, it may indicate potential issues with the data collection process or differences in the feed material. This could affect the model's performance and may require further investigation."
   ]
  },
  {
   "cell_type": "markdown",
   "metadata": {},
   "source": [
    "<div class=\"alert alert-success\" style=\"border-radius: 15px; box-shadow: 4px 4px 4px; border: 1px solid \">\n",
    "<h2>   Reviewer's comment 2 </h2>\n",
    "    \n",
    "Very good! \n",
    "\n",
    "</div>\n",
    "<div class=\"alert alert-danger\" style=\"border-radius: 15px; box-shadow: 4px 4px 4px; border: 1px solid \">\n",
    "<b>   Reviewer's comment 2 </b>\n",
    "    \n",
    "Would you please analyze `primary_cleaner.input.feed_size` as well?\n",
    "\n",
    "</div>\n",
    "<div class=\"alert alert-danger\" style=\"border-radius: 15px; box-shadow: 4px 4px 4px; border: 1px solid \">\n",
    "<b>   Reviewer's comment </b>\n",
    "    \n",
    "Please use `rougher.input.feed_size` and `primary_cleaner.input.feed_size` and display histograms. Don't forget to add a conclusion. \n",
    "\n",
    "</div>\n"
   ]
  },
  {
   "cell_type": "code",
   "execution_count": 7,
   "metadata": {},
   "outputs": [
    {
     "name": "stdout",
     "output_type": "stream",
     "text": [
      "rougher.input.feed total concentration: count    14149.000000\n",
      "mean        19.951237\n",
      "std          4.431764\n",
      "min          0.030000\n",
      "25%         16.850944\n",
      "50%         19.179708\n",
      "75%         22.571605\n",
      "max         32.840164\n",
      "dtype: float64\n"
     ]
    },
    {
     "data": {
      "image/png": "[encoded data removed]",
      "text/plain": [
       "<Figure size 1000x500 with 1 Axes>"
      ]
     },
     "metadata": {},
     "output_type": "display_data"
    },
    {
     "name": "stdout",
     "output_type": "stream",
     "text": [
      "Number of outliers in rougher.input.feed: 132\n",
      "rougher.output.concentrate total concentration: count    14017.000000\n",
      "mean        38.950334\n",
      "std          6.728830\n",
      "min          0.000000\n",
      "25%         37.943764\n",
      "50%         39.860476\n",
      "75%         41.786826\n",
      "max         55.568687\n",
      "dtype: float64\n"
     ]
    },
    {
     "data": {
      "image/png": "[encoded data removed]",
      "text/plain": [
       "<Figure size 1000x500 with 1 Axes>"
      ]
     },
     "metadata": {},
     "output_type": "display_data"
    },
    {
     "name": "stdout",
     "output_type": "stream",
     "text": [
      "Number of outliers in rougher.output.concentrate: 803\n",
      "final.output.concentrate total concentration: count    13214.000000\n",
      "mean        59.488536\n",
      "std          4.991855\n",
      "min          0.000000\n",
      "25%         59.211537\n",
      "50%         60.268529\n",
      "75%         61.052157\n",
      "max         64.968881\n",
      "dtype: float64\n"
     ]
    },
    {
     "data": {
      "image/png": "[encoded data removed]",
      "text/plain": [
       "<Figure size 1000x500 with 1 Axes>"
      ]
     },
     "metadata": {},
     "output_type": "display_data"
    },
    {
     "name": "stdout",
     "output_type": "stream",
     "text": [
      "Number of outliers in final.output.concentrate: 622\n",
      "primary_cleaner.input.feed_size: count    12592.000000\n",
      "mean         7.328776\n",
      "std          0.614486\n",
      "min          1.080000\n",
      "25%          6.970000\n",
      "50%          7.300000\n",
      "75%          7.700000\n",
      "max         10.470000\n",
      "Name: primary_cleaner.input.feed_size, dtype: float64\n"
     ]
    },
    {
     "data": {
      "image/png": "[encoded data removed]",
      "text/plain": [
       "<Figure size 1000x500 with 1 Axes>"
      ]
     },
     "metadata": {},
     "output_type": "display_data"
    },
    {
     "name": "stdout",
     "output_type": "stream",
     "text": [
      "Number of outliers in primary_cleaner.input.feed_size: 245\n"
     ]
    }
   ],
   "source": [
    "def analyze_total_concentrations(data):\n",
    "\n",
    "    stages = ['rougher.input.feed', 'rougher.output.concentrate', 'final.output.concentrate']\n",
    "    metals = ['au', 'ag', 'pb']\n",
    "    \n",
    "    for stage in stages:\n",
    "        # Calculate total concentration\n",
    "        total_concentration = data[[f'{stage}_{metal}' for metal in metals]].sum(axis=1)\n",
    "        print(f'{stage} total concentration: {total_concentration.describe()}')\n",
    "        \n",
    "        # Plot histogram\n",
    "        plt.figure(figsize=(10, 5))\n",
    "        plt.hist(total_concentration, bins=50, alpha=0.5, label=f'{stage} total concentration')\n",
    "        plt.title(f'Total Concentration at {stage.replace(\".\", \" \").capitalize()} Stage')\n",
    "        plt.xlabel('Total Concentration')\n",
    "        plt.ylabel('Frequency')\n",
    "        plt.legend()\n",
    "        plt.show()\n",
    "        \n",
    "        # Identify and drop outliers\n",
    "        Q1 = total_concentration.quantile(0.25)\n",
    "        Q3 = total_concentration.quantile(0.75)\n",
    "        IQR = Q3 - Q1\n",
    "        lower_bound = Q1 - 1.5 * IQR\n",
    "        upper_bound = Q3 + 1.5 * IQR\n",
    "        outliers = total_concentration[(total_concentration < lower_bound) | (total_concentration > upper_bound)]\n",
    "        print(f'Number of outliers in {stage}: {len(outliers)}')\n",
    "        \n",
    "        # Drop outliers\n",
    "        data = data[~data.index.isin(outliers.index)]\n",
    "    \n",
    "    # Analyze primary_cleaner.input.feed_size\n",
    "    feed_size = data['primary_cleaner.input.feed_size']\n",
    "    print(f'primary_cleaner.input.feed_size: {feed_size.describe()}')\n",
    "    \n",
    "    # Plot histogram\n",
    "    plt.figure(figsize=(10, 5))\n",
    "    plt.hist(feed_size, bins=50, alpha=0.5, label='primary_cleaner.input.feed_size')\n",
    "    plt.title('Primary Cleaner Input Feed Size')\n",
    "    plt.xlabel('Feed Size')\n",
    "    plt.ylabel('Frequency')\n",
    "    plt.legend()\n",
    "    plt.show()\n",
    "    \n",
    "    # Identify and drop outliers\n",
    "    Q1 = feed_size.quantile(0.25)\n",
    "    Q3 = feed_size.quantile(0.75)\n",
    "    IQR = Q3 - Q1\n",
    "    lower_bound = Q1 - 1.5 * IQR\n",
    "    upper_bound = Q3 + 1.5 * IQR\n",
    "    outliers = feed_size[(feed_size < lower_bound) | (feed_size > upper_bound)]\n",
    "    print(f'Number of outliers in primary_cleaner.input.feed_size: {len(outliers)}')\n",
    "    \n",
    "    # Drop outliers\n",
    "    data = data[~data.index.isin(outliers.index)]\n",
    "    \n",
    "    return data\n",
    "\n",
    "# Analyze total concentrations and primary cleaner input feed size, and remove outliers\n",
    "train_data = analyze_total_concentrations(train_data)\n",
    "\n"
   ]
  },
  {
   "cell_type": "code",
   "execution_count": 8,
   "metadata": {},
   "outputs": [],
   "source": [
    "# Define the custom sMAPE scorer\n",
    "def smape(y_true, y_pred):\n",
    "    return 100 * np.mean(2 * np.abs(y_pred - y_true) / (np.abs(y_true) + np.abs(y_pred)))\n",
    "\n",
    "smape_scorer = make_scorer(smape, greater_is_better=False)\n"
   ]
  },
  {
   "cell_type": "code",
   "execution_count": 9,
   "metadata": {},
   "outputs": [
    {
     "ename": "KeyboardInterrupt",
     "evalue": "",
     "output_type": "error",
     "traceback": [
      "\u001b[0;31m---------------------------------------------------------------------------\u001b[0m",
      "\u001b[0;31mKeyboardInterrupt\u001b[0m                         Traceback (most recent call last)",
      "Cell \u001b[0;32mIn[9], line 31\u001b[0m\n\u001b[1;32m     29\u001b[0m \u001b[38;5;66;03m# Perform GridSearchCV for RandomForestRegressor\u001b[39;00m\n\u001b[1;32m     30\u001b[0m grid_search_rf \u001b[38;5;241m=\u001b[39m GridSearchCV(rf_model, param_grid_rf, cv\u001b[38;5;241m=\u001b[39m\u001b[38;5;241m5\u001b[39m, scoring\u001b[38;5;241m=\u001b[39msmape_scorer, n_jobs\u001b[38;5;241m=\u001b[39m\u001b[38;5;241m-\u001b[39m\u001b[38;5;241m1\u001b[39m)\n\u001b[0;32m---> 31\u001b[0m \u001b[43mgrid_search_rf\u001b[49m\u001b[38;5;241;43m.\u001b[39;49m\u001b[43mfit\u001b[49m\u001b[43m(\u001b[49m\u001b[43mX_train\u001b[49m\u001b[43m,\u001b[49m\u001b[43m \u001b[49m\u001b[43my_train\u001b[49m\u001b[43m[\u001b[49m\u001b[38;5;124;43m'\u001b[39;49m\u001b[38;5;124;43mfinal.output.recovery\u001b[39;49m\u001b[38;5;124;43m'\u001b[39;49m\u001b[43m]\u001b[49m\u001b[43m)\u001b[49m\n\u001b[1;32m     33\u001b[0m \u001b[38;5;66;03m# Perform GridSearchCV for GradientBoostingRegressor\u001b[39;00m\n\u001b[1;32m     34\u001b[0m grid_search_gb \u001b[38;5;241m=\u001b[39m GridSearchCV(gb_model, param_grid_gb, cv\u001b[38;5;241m=\u001b[39m\u001b[38;5;241m5\u001b[39m, scoring\u001b[38;5;241m=\u001b[39msmape_scorer, n_jobs\u001b[38;5;241m=\u001b[39m\u001b[38;5;241m-\u001b[39m\u001b[38;5;241m1\u001b[39m)\n",
      "File \u001b[0;32m/opt/conda/envs/python3/lib/python3.9/site-packages/sklearn/utils/validation.py:63\u001b[0m, in \u001b[0;36m_deprecate_positional_args.<locals>._inner_deprecate_positional_args.<locals>.inner_f\u001b[0;34m(*args, **kwargs)\u001b[0m\n\u001b[1;32m     61\u001b[0m extra_args \u001b[38;5;241m=\u001b[39m \u001b[38;5;28mlen\u001b[39m(args) \u001b[38;5;241m-\u001b[39m \u001b[38;5;28mlen\u001b[39m(all_args)\n\u001b[1;32m     62\u001b[0m \u001b[38;5;28;01mif\u001b[39;00m extra_args \u001b[38;5;241m<\u001b[39m\u001b[38;5;241m=\u001b[39m \u001b[38;5;241m0\u001b[39m:\n\u001b[0;32m---> 63\u001b[0m     \u001b[38;5;28;01mreturn\u001b[39;00m \u001b[43mf\u001b[49m\u001b[43m(\u001b[49m\u001b[38;5;241;43m*\u001b[39;49m\u001b[43margs\u001b[49m\u001b[43m,\u001b[49m\u001b[43m \u001b[49m\u001b[38;5;241;43m*\u001b[39;49m\u001b[38;5;241;43m*\u001b[39;49m\u001b[43mkwargs\u001b[49m\u001b[43m)\u001b[49m\n\u001b[1;32m     65\u001b[0m \u001b[38;5;66;03m# extra_args > 0\u001b[39;00m\n\u001b[1;32m     66\u001b[0m args_msg \u001b[38;5;241m=\u001b[39m [\u001b[38;5;124m'\u001b[39m\u001b[38;5;132;01m{}\u001b[39;00m\u001b[38;5;124m=\u001b[39m\u001b[38;5;132;01m{}\u001b[39;00m\u001b[38;5;124m'\u001b[39m\u001b[38;5;241m.\u001b[39mformat(name, arg)\n\u001b[1;32m     67\u001b[0m             \u001b[38;5;28;01mfor\u001b[39;00m name, arg \u001b[38;5;129;01min\u001b[39;00m \u001b[38;5;28mzip\u001b[39m(kwonly_args[:extra_args],\n\u001b[1;32m     68\u001b[0m                                  args[\u001b[38;5;241m-\u001b[39mextra_args:])]\n",
      "File \u001b[0;32m/opt/conda/envs/python3/lib/python3.9/site-packages/sklearn/model_selection/_search.py:841\u001b[0m, in \u001b[0;36mBaseSearchCV.fit\u001b[0;34m(self, X, y, groups, **fit_params)\u001b[0m\n\u001b[1;32m    835\u001b[0m     results \u001b[38;5;241m=\u001b[39m \u001b[38;5;28mself\u001b[39m\u001b[38;5;241m.\u001b[39m_format_results(\n\u001b[1;32m    836\u001b[0m         all_candidate_params, n_splits, all_out,\n\u001b[1;32m    837\u001b[0m         all_more_results)\n\u001b[1;32m    839\u001b[0m     \u001b[38;5;28;01mreturn\u001b[39;00m results\n\u001b[0;32m--> 841\u001b[0m \u001b[38;5;28;43mself\u001b[39;49m\u001b[38;5;241;43m.\u001b[39;49m\u001b[43m_run_search\u001b[49m\u001b[43m(\u001b[49m\u001b[43mevaluate_candidates\u001b[49m\u001b[43m)\u001b[49m\n\u001b[1;32m    843\u001b[0m \u001b[38;5;66;03m# multimetric is determined here because in the case of a callable\u001b[39;00m\n\u001b[1;32m    844\u001b[0m \u001b[38;5;66;03m# self.scoring the return type is only known after calling\u001b[39;00m\n\u001b[1;32m    845\u001b[0m first_test_score \u001b[38;5;241m=\u001b[39m all_out[\u001b[38;5;241m0\u001b[39m][\u001b[38;5;124m'\u001b[39m\u001b[38;5;124mtest_scores\u001b[39m\u001b[38;5;124m'\u001b[39m]\n",
      "File \u001b[0;32m/opt/conda/envs/python3/lib/python3.9/site-packages/sklearn/model_selection/_search.py:1288\u001b[0m, in \u001b[0;36mGridSearchCV._run_search\u001b[0;34m(self, evaluate_candidates)\u001b[0m\n\u001b[1;32m   1286\u001b[0m \u001b[38;5;28;01mdef\u001b[39;00m \u001b[38;5;21m_run_search\u001b[39m(\u001b[38;5;28mself\u001b[39m, evaluate_candidates):\n\u001b[1;32m   1287\u001b[0m \u001b[38;5;250m    \u001b[39m\u001b[38;5;124;03m\"\"\"Search all candidates in param_grid\"\"\"\u001b[39;00m\n\u001b[0;32m-> 1288\u001b[0m     \u001b[43mevaluate_candidates\u001b[49m\u001b[43m(\u001b[49m\u001b[43mParameterGrid\u001b[49m\u001b[43m(\u001b[49m\u001b[38;5;28;43mself\u001b[39;49m\u001b[38;5;241;43m.\u001b[39;49m\u001b[43mparam_grid\u001b[49m\u001b[43m)\u001b[49m\u001b[43m)\u001b[49m\n",
      "File \u001b[0;32m/opt/conda/envs/python3/lib/python3.9/site-packages/sklearn/model_selection/_search.py:795\u001b[0m, in \u001b[0;36mBaseSearchCV.fit.<locals>.evaluate_candidates\u001b[0;34m(candidate_params, cv, more_results)\u001b[0m\n\u001b[1;32m    790\u001b[0m \u001b[38;5;28;01mif\u001b[39;00m \u001b[38;5;28mself\u001b[39m\u001b[38;5;241m.\u001b[39mverbose \u001b[38;5;241m>\u001b[39m \u001b[38;5;241m0\u001b[39m:\n\u001b[1;32m    791\u001b[0m     \u001b[38;5;28mprint\u001b[39m(\u001b[38;5;124m\"\u001b[39m\u001b[38;5;124mFitting \u001b[39m\u001b[38;5;132;01m{0}\u001b[39;00m\u001b[38;5;124m folds for each of \u001b[39m\u001b[38;5;132;01m{1}\u001b[39;00m\u001b[38;5;124m candidates,\u001b[39m\u001b[38;5;124m\"\u001b[39m\n\u001b[1;32m    792\u001b[0m           \u001b[38;5;124m\"\u001b[39m\u001b[38;5;124m totalling \u001b[39m\u001b[38;5;132;01m{2}\u001b[39;00m\u001b[38;5;124m fits\u001b[39m\u001b[38;5;124m\"\u001b[39m\u001b[38;5;241m.\u001b[39mformat(\n\u001b[1;32m    793\u001b[0m               n_splits, n_candidates, n_candidates \u001b[38;5;241m*\u001b[39m n_splits))\n\u001b[0;32m--> 795\u001b[0m out \u001b[38;5;241m=\u001b[39m \u001b[43mparallel\u001b[49m\u001b[43m(\u001b[49m\u001b[43mdelayed\u001b[49m\u001b[43m(\u001b[49m\u001b[43m_fit_and_score\u001b[49m\u001b[43m)\u001b[49m\u001b[43m(\u001b[49m\u001b[43mclone\u001b[49m\u001b[43m(\u001b[49m\u001b[43mbase_estimator\u001b[49m\u001b[43m)\u001b[49m\u001b[43m,\u001b[49m\n\u001b[1;32m    796\u001b[0m \u001b[43m                                       \u001b[49m\u001b[43mX\u001b[49m\u001b[43m,\u001b[49m\u001b[43m \u001b[49m\u001b[43my\u001b[49m\u001b[43m,\u001b[49m\n\u001b[1;32m    797\u001b[0m \u001b[43m                                       \u001b[49m\u001b[43mtrain\u001b[49m\u001b[38;5;241;43m=\u001b[39;49m\u001b[43mtrain\u001b[49m\u001b[43m,\u001b[49m\u001b[43m \u001b[49m\u001b[43mtest\u001b[49m\u001b[38;5;241;43m=\u001b[39;49m\u001b[43mtest\u001b[49m\u001b[43m,\u001b[49m\n\u001b[1;32m    798\u001b[0m \u001b[43m                                       \u001b[49m\u001b[43mparameters\u001b[49m\u001b[38;5;241;43m=\u001b[39;49m\u001b[43mparameters\u001b[49m\u001b[43m,\u001b[49m\n\u001b[1;32m    799\u001b[0m \u001b[43m                                       \u001b[49m\u001b[43msplit_progress\u001b[49m\u001b[38;5;241;43m=\u001b[39;49m\u001b[43m(\u001b[49m\n\u001b[1;32m    800\u001b[0m \u001b[43m                                           \u001b[49m\u001b[43msplit_idx\u001b[49m\u001b[43m,\u001b[49m\n\u001b[1;32m    801\u001b[0m \u001b[43m                                           \u001b[49m\u001b[43mn_splits\u001b[49m\u001b[43m)\u001b[49m\u001b[43m,\u001b[49m\n\u001b[1;32m    802\u001b[0m \u001b[43m                                       \u001b[49m\u001b[43mcandidate_progress\u001b[49m\u001b[38;5;241;43m=\u001b[39;49m\u001b[43m(\u001b[49m\n\u001b[1;32m    803\u001b[0m \u001b[43m                                           \u001b[49m\u001b[43mcand_idx\u001b[49m\u001b[43m,\u001b[49m\n\u001b[1;32m    804\u001b[0m \u001b[43m                                           \u001b[49m\u001b[43mn_candidates\u001b[49m\u001b[43m)\u001b[49m\u001b[43m,\u001b[49m\n\u001b[1;32m    805\u001b[0m \u001b[43m                                       \u001b[49m\u001b[38;5;241;43m*\u001b[39;49m\u001b[38;5;241;43m*\u001b[39;49m\u001b[43mfit_and_score_kwargs\u001b[49m\u001b[43m)\u001b[49m\n\u001b[1;32m    806\u001b[0m \u001b[43m               \u001b[49m\u001b[38;5;28;43;01mfor\u001b[39;49;00m\u001b[43m \u001b[49m\u001b[43m(\u001b[49m\u001b[43mcand_idx\u001b[49m\u001b[43m,\u001b[49m\u001b[43m \u001b[49m\u001b[43mparameters\u001b[49m\u001b[43m)\u001b[49m\u001b[43m,\u001b[49m\n\u001b[1;32m    807\u001b[0m \u001b[43m                   \u001b[49m\u001b[43m(\u001b[49m\u001b[43msplit_idx\u001b[49m\u001b[43m,\u001b[49m\u001b[43m \u001b[49m\u001b[43m(\u001b[49m\u001b[43mtrain\u001b[49m\u001b[43m,\u001b[49m\u001b[43m \u001b[49m\u001b[43mtest\u001b[49m\u001b[43m)\u001b[49m\u001b[43m)\u001b[49m\u001b[43m \u001b[49m\u001b[38;5;129;43;01min\u001b[39;49;00m\u001b[43m \u001b[49m\u001b[43mproduct\u001b[49m\u001b[43m(\u001b[49m\n\u001b[1;32m    808\u001b[0m \u001b[43m                   \u001b[49m\u001b[38;5;28;43menumerate\u001b[39;49m\u001b[43m(\u001b[49m\u001b[43mcandidate_params\u001b[49m\u001b[43m)\u001b[49m\u001b[43m,\u001b[49m\n\u001b[1;32m    809\u001b[0m \u001b[43m                   \u001b[49m\u001b[38;5;28;43menumerate\u001b[39;49m\u001b[43m(\u001b[49m\u001b[43mcv\u001b[49m\u001b[38;5;241;43m.\u001b[39;49m\u001b[43msplit\u001b[49m\u001b[43m(\u001b[49m\u001b[43mX\u001b[49m\u001b[43m,\u001b[49m\u001b[43m \u001b[49m\u001b[43my\u001b[49m\u001b[43m,\u001b[49m\u001b[43m \u001b[49m\u001b[43mgroups\u001b[49m\u001b[43m)\u001b[49m\u001b[43m)\u001b[49m\u001b[43m)\u001b[49m\u001b[43m)\u001b[49m\n\u001b[1;32m    811\u001b[0m \u001b[38;5;28;01mif\u001b[39;00m \u001b[38;5;28mlen\u001b[39m(out) \u001b[38;5;241m<\u001b[39m \u001b[38;5;241m1\u001b[39m:\n\u001b[1;32m    812\u001b[0m     \u001b[38;5;28;01mraise\u001b[39;00m \u001b[38;5;167;01mValueError\u001b[39;00m(\u001b[38;5;124m'\u001b[39m\u001b[38;5;124mNo fits were performed. \u001b[39m\u001b[38;5;124m'\u001b[39m\n\u001b[1;32m    813\u001b[0m                      \u001b[38;5;124m'\u001b[39m\u001b[38;5;124mWas the CV iterator empty? \u001b[39m\u001b[38;5;124m'\u001b[39m\n\u001b[1;32m    814\u001b[0m                      \u001b[38;5;124m'\u001b[39m\u001b[38;5;124mWere there no candidates?\u001b[39m\u001b[38;5;124m'\u001b[39m)\n",
      "File \u001b[0;32m/opt/conda/envs/python3/lib/python3.9/site-packages/joblib/parallel.py:1918\u001b[0m, in \u001b[0;36mParallel.__call__\u001b[0;34m(self, iterable)\u001b[0m\n\u001b[1;32m   1916\u001b[0m     output \u001b[38;5;241m=\u001b[39m \u001b[38;5;28mself\u001b[39m\u001b[38;5;241m.\u001b[39m_get_sequential_output(iterable)\n\u001b[1;32m   1917\u001b[0m     \u001b[38;5;28mnext\u001b[39m(output)\n\u001b[0;32m-> 1918\u001b[0m     \u001b[38;5;28;01mreturn\u001b[39;00m output \u001b[38;5;28;01mif\u001b[39;00m \u001b[38;5;28mself\u001b[39m\u001b[38;5;241m.\u001b[39mreturn_generator \u001b[38;5;28;01melse\u001b[39;00m \u001b[38;5;28;43mlist\u001b[39;49m\u001b[43m(\u001b[49m\u001b[43moutput\u001b[49m\u001b[43m)\u001b[49m\n\u001b[1;32m   1920\u001b[0m \u001b[38;5;66;03m# Let's create an ID that uniquely identifies the current call. If the\u001b[39;00m\n\u001b[1;32m   1921\u001b[0m \u001b[38;5;66;03m# call is interrupted early and that the same instance is immediately\u001b[39;00m\n\u001b[1;32m   1922\u001b[0m \u001b[38;5;66;03m# re-used, this id will be used to prevent workers that were\u001b[39;00m\n\u001b[1;32m   1923\u001b[0m \u001b[38;5;66;03m# concurrently finalizing a task from the previous call to run the\u001b[39;00m\n\u001b[1;32m   1924\u001b[0m \u001b[38;5;66;03m# callback.\u001b[39;00m\n\u001b[1;32m   1925\u001b[0m \u001b[38;5;28;01mwith\u001b[39;00m \u001b[38;5;28mself\u001b[39m\u001b[38;5;241m.\u001b[39m_lock:\n",
      "File \u001b[0;32m/opt/conda/envs/python3/lib/python3.9/site-packages/joblib/parallel.py:1847\u001b[0m, in \u001b[0;36mParallel._get_sequential_output\u001b[0;34m(self, iterable)\u001b[0m\n\u001b[1;32m   1845\u001b[0m \u001b[38;5;28mself\u001b[39m\u001b[38;5;241m.\u001b[39mn_dispatched_batches \u001b[38;5;241m+\u001b[39m\u001b[38;5;241m=\u001b[39m \u001b[38;5;241m1\u001b[39m\n\u001b[1;32m   1846\u001b[0m \u001b[38;5;28mself\u001b[39m\u001b[38;5;241m.\u001b[39mn_dispatched_tasks \u001b[38;5;241m+\u001b[39m\u001b[38;5;241m=\u001b[39m \u001b[38;5;241m1\u001b[39m\n\u001b[0;32m-> 1847\u001b[0m res \u001b[38;5;241m=\u001b[39m \u001b[43mfunc\u001b[49m\u001b[43m(\u001b[49m\u001b[38;5;241;43m*\u001b[39;49m\u001b[43margs\u001b[49m\u001b[43m,\u001b[49m\u001b[43m \u001b[49m\u001b[38;5;241;43m*\u001b[39;49m\u001b[38;5;241;43m*\u001b[39;49m\u001b[43mkwargs\u001b[49m\u001b[43m)\u001b[49m\n\u001b[1;32m   1848\u001b[0m \u001b[38;5;28mself\u001b[39m\u001b[38;5;241m.\u001b[39mn_completed_tasks \u001b[38;5;241m+\u001b[39m\u001b[38;5;241m=\u001b[39m \u001b[38;5;241m1\u001b[39m\n\u001b[1;32m   1849\u001b[0m \u001b[38;5;28mself\u001b[39m\u001b[38;5;241m.\u001b[39mprint_progress()\n",
      "File \u001b[0;32m/opt/conda/envs/python3/lib/python3.9/site-packages/sklearn/utils/fixes.py:222\u001b[0m, in \u001b[0;36m_FuncWrapper.__call__\u001b[0;34m(self, *args, **kwargs)\u001b[0m\n\u001b[1;32m    220\u001b[0m \u001b[38;5;28;01mdef\u001b[39;00m \u001b[38;5;21m__call__\u001b[39m(\u001b[38;5;28mself\u001b[39m, \u001b[38;5;241m*\u001b[39margs, \u001b[38;5;241m*\u001b[39m\u001b[38;5;241m*\u001b[39mkwargs):\n\u001b[1;32m    221\u001b[0m     \u001b[38;5;28;01mwith\u001b[39;00m config_context(\u001b[38;5;241m*\u001b[39m\u001b[38;5;241m*\u001b[39m\u001b[38;5;28mself\u001b[39m\u001b[38;5;241m.\u001b[39mconfig):\n\u001b[0;32m--> 222\u001b[0m         \u001b[38;5;28;01mreturn\u001b[39;00m \u001b[38;5;28;43mself\u001b[39;49m\u001b[38;5;241;43m.\u001b[39;49m\u001b[43mfunction\u001b[49m\u001b[43m(\u001b[49m\u001b[38;5;241;43m*\u001b[39;49m\u001b[43margs\u001b[49m\u001b[43m,\u001b[49m\u001b[43m \u001b[49m\u001b[38;5;241;43m*\u001b[39;49m\u001b[38;5;241;43m*\u001b[39;49m\u001b[43mkwargs\u001b[49m\u001b[43m)\u001b[49m\n",
      "File \u001b[0;32m/opt/conda/envs/python3/lib/python3.9/site-packages/sklearn/model_selection/_validation.py:593\u001b[0m, in \u001b[0;36m_fit_and_score\u001b[0;34m(estimator, X, y, scorer, train, test, verbose, parameters, fit_params, return_train_score, return_parameters, return_n_test_samples, return_times, return_estimator, split_progress, candidate_progress, error_score)\u001b[0m\n\u001b[1;32m    591\u001b[0m         estimator\u001b[38;5;241m.\u001b[39mfit(X_train, \u001b[38;5;241m*\u001b[39m\u001b[38;5;241m*\u001b[39mfit_params)\n\u001b[1;32m    592\u001b[0m     \u001b[38;5;28;01melse\u001b[39;00m:\n\u001b[0;32m--> 593\u001b[0m         \u001b[43mestimator\u001b[49m\u001b[38;5;241;43m.\u001b[39;49m\u001b[43mfit\u001b[49m\u001b[43m(\u001b[49m\u001b[43mX_train\u001b[49m\u001b[43m,\u001b[49m\u001b[43m \u001b[49m\u001b[43my_train\u001b[49m\u001b[43m,\u001b[49m\u001b[43m \u001b[49m\u001b[38;5;241;43m*\u001b[39;49m\u001b[38;5;241;43m*\u001b[39;49m\u001b[43mfit_params\u001b[49m\u001b[43m)\u001b[49m\n\u001b[1;32m    595\u001b[0m \u001b[38;5;28;01mexcept\u001b[39;00m \u001b[38;5;167;01mException\u001b[39;00m \u001b[38;5;28;01mas\u001b[39;00m e:\n\u001b[1;32m    596\u001b[0m     \u001b[38;5;66;03m# Note fit time as time until error\u001b[39;00m\n\u001b[1;32m    597\u001b[0m     fit_time \u001b[38;5;241m=\u001b[39m time\u001b[38;5;241m.\u001b[39mtime() \u001b[38;5;241m-\u001b[39m start_time\n",
      "File \u001b[0;32m/opt/conda/envs/python3/lib/python3.9/site-packages/sklearn/ensemble/_forest.py:387\u001b[0m, in \u001b[0;36mBaseForest.fit\u001b[0;34m(self, X, y, sample_weight)\u001b[0m\n\u001b[1;32m    377\u001b[0m trees \u001b[38;5;241m=\u001b[39m [\u001b[38;5;28mself\u001b[39m\u001b[38;5;241m.\u001b[39m_make_estimator(append\u001b[38;5;241m=\u001b[39m\u001b[38;5;28;01mFalse\u001b[39;00m,\n\u001b[1;32m    378\u001b[0m                               random_state\u001b[38;5;241m=\u001b[39mrandom_state)\n\u001b[1;32m    379\u001b[0m          \u001b[38;5;28;01mfor\u001b[39;00m i \u001b[38;5;129;01min\u001b[39;00m \u001b[38;5;28mrange\u001b[39m(n_more_estimators)]\n\u001b[1;32m    381\u001b[0m \u001b[38;5;66;03m# Parallel loop: we prefer the threading backend as the Cython code\u001b[39;00m\n\u001b[1;32m    382\u001b[0m \u001b[38;5;66;03m# for fitting the trees is internally releasing the Python GIL\u001b[39;00m\n\u001b[1;32m    383\u001b[0m \u001b[38;5;66;03m# making threading more efficient than multiprocessing in\u001b[39;00m\n\u001b[1;32m    384\u001b[0m \u001b[38;5;66;03m# that case. However, for joblib 0.12+ we respect any\u001b[39;00m\n\u001b[1;32m    385\u001b[0m \u001b[38;5;66;03m# parallel_backend contexts set at a higher level,\u001b[39;00m\n\u001b[1;32m    386\u001b[0m \u001b[38;5;66;03m# since correctness does not rely on using threads.\u001b[39;00m\n\u001b[0;32m--> 387\u001b[0m trees \u001b[38;5;241m=\u001b[39m \u001b[43mParallel\u001b[49m\u001b[43m(\u001b[49m\u001b[43mn_jobs\u001b[49m\u001b[38;5;241;43m=\u001b[39;49m\u001b[38;5;28;43mself\u001b[39;49m\u001b[38;5;241;43m.\u001b[39;49m\u001b[43mn_jobs\u001b[49m\u001b[43m,\u001b[49m\u001b[43m \u001b[49m\u001b[43mverbose\u001b[49m\u001b[38;5;241;43m=\u001b[39;49m\u001b[38;5;28;43mself\u001b[39;49m\u001b[38;5;241;43m.\u001b[39;49m\u001b[43mverbose\u001b[49m\u001b[43m,\u001b[49m\n\u001b[1;32m    388\u001b[0m \u001b[43m                 \u001b[49m\u001b[38;5;241;43m*\u001b[39;49m\u001b[38;5;241;43m*\u001b[39;49m\u001b[43m_joblib_parallel_args\u001b[49m\u001b[43m(\u001b[49m\u001b[43mprefer\u001b[49m\u001b[38;5;241;43m=\u001b[39;49m\u001b[38;5;124;43m'\u001b[39;49m\u001b[38;5;124;43mthreads\u001b[39;49m\u001b[38;5;124;43m'\u001b[39;49m\u001b[43m)\u001b[49m\u001b[43m)\u001b[49m\u001b[43m(\u001b[49m\n\u001b[1;32m    389\u001b[0m \u001b[43m    \u001b[49m\u001b[43mdelayed\u001b[49m\u001b[43m(\u001b[49m\u001b[43m_parallel_build_trees\u001b[49m\u001b[43m)\u001b[49m\u001b[43m(\u001b[49m\n\u001b[1;32m    390\u001b[0m \u001b[43m        \u001b[49m\u001b[43mt\u001b[49m\u001b[43m,\u001b[49m\u001b[43m \u001b[49m\u001b[38;5;28;43mself\u001b[39;49m\u001b[43m,\u001b[49m\u001b[43m \u001b[49m\u001b[43mX\u001b[49m\u001b[43m,\u001b[49m\u001b[43m \u001b[49m\u001b[43my\u001b[49m\u001b[43m,\u001b[49m\u001b[43m \u001b[49m\u001b[43msample_weight\u001b[49m\u001b[43m,\u001b[49m\u001b[43m \u001b[49m\u001b[43mi\u001b[49m\u001b[43m,\u001b[49m\u001b[43m \u001b[49m\u001b[38;5;28;43mlen\u001b[39;49m\u001b[43m(\u001b[49m\u001b[43mtrees\u001b[49m\u001b[43m)\u001b[49m\u001b[43m,\u001b[49m\n\u001b[1;32m    391\u001b[0m \u001b[43m        \u001b[49m\u001b[43mverbose\u001b[49m\u001b[38;5;241;43m=\u001b[39;49m\u001b[38;5;28;43mself\u001b[39;49m\u001b[38;5;241;43m.\u001b[39;49m\u001b[43mverbose\u001b[49m\u001b[43m,\u001b[49m\u001b[43m \u001b[49m\u001b[43mclass_weight\u001b[49m\u001b[38;5;241;43m=\u001b[39;49m\u001b[38;5;28;43mself\u001b[39;49m\u001b[38;5;241;43m.\u001b[39;49m\u001b[43mclass_weight\u001b[49m\u001b[43m,\u001b[49m\n\u001b[1;32m    392\u001b[0m \u001b[43m        \u001b[49m\u001b[43mn_samples_bootstrap\u001b[49m\u001b[38;5;241;43m=\u001b[39;49m\u001b[43mn_samples_bootstrap\u001b[49m\u001b[43m)\u001b[49m\n\u001b[1;32m    393\u001b[0m \u001b[43m    \u001b[49m\u001b[38;5;28;43;01mfor\u001b[39;49;00m\u001b[43m \u001b[49m\u001b[43mi\u001b[49m\u001b[43m,\u001b[49m\u001b[43m \u001b[49m\u001b[43mt\u001b[49m\u001b[43m \u001b[49m\u001b[38;5;129;43;01min\u001b[39;49;00m\u001b[43m \u001b[49m\u001b[38;5;28;43menumerate\u001b[39;49m\u001b[43m(\u001b[49m\u001b[43mtrees\u001b[49m\u001b[43m)\u001b[49m\u001b[43m)\u001b[49m\n\u001b[1;32m    395\u001b[0m \u001b[38;5;66;03m# Collect newly grown trees\u001b[39;00m\n\u001b[1;32m    396\u001b[0m \u001b[38;5;28mself\u001b[39m\u001b[38;5;241m.\u001b[39mestimators_\u001b[38;5;241m.\u001b[39mextend(trees)\n",
      "File \u001b[0;32m/opt/conda/envs/python3/lib/python3.9/site-packages/joblib/parallel.py:1918\u001b[0m, in \u001b[0;36mParallel.__call__\u001b[0;34m(self, iterable)\u001b[0m\n\u001b[1;32m   1916\u001b[0m     output \u001b[38;5;241m=\u001b[39m \u001b[38;5;28mself\u001b[39m\u001b[38;5;241m.\u001b[39m_get_sequential_output(iterable)\n\u001b[1;32m   1917\u001b[0m     \u001b[38;5;28mnext\u001b[39m(output)\n\u001b[0;32m-> 1918\u001b[0m     \u001b[38;5;28;01mreturn\u001b[39;00m output \u001b[38;5;28;01mif\u001b[39;00m \u001b[38;5;28mself\u001b[39m\u001b[38;5;241m.\u001b[39mreturn_generator \u001b[38;5;28;01melse\u001b[39;00m \u001b[38;5;28;43mlist\u001b[39;49m\u001b[43m(\u001b[49m\u001b[43moutput\u001b[49m\u001b[43m)\u001b[49m\n\u001b[1;32m   1920\u001b[0m \u001b[38;5;66;03m# Let's create an ID that uniquely identifies the current call. If the\u001b[39;00m\n\u001b[1;32m   1921\u001b[0m \u001b[38;5;66;03m# call is interrupted early and that the same instance is immediately\u001b[39;00m\n\u001b[1;32m   1922\u001b[0m \u001b[38;5;66;03m# re-used, this id will be used to prevent workers that were\u001b[39;00m\n\u001b[1;32m   1923\u001b[0m \u001b[38;5;66;03m# concurrently finalizing a task from the previous call to run the\u001b[39;00m\n\u001b[1;32m   1924\u001b[0m \u001b[38;5;66;03m# callback.\u001b[39;00m\n\u001b[1;32m   1925\u001b[0m \u001b[38;5;28;01mwith\u001b[39;00m \u001b[38;5;28mself\u001b[39m\u001b[38;5;241m.\u001b[39m_lock:\n",
      "File \u001b[0;32m/opt/conda/envs/python3/lib/python3.9/site-packages/joblib/parallel.py:1847\u001b[0m, in \u001b[0;36mParallel._get_sequential_output\u001b[0;34m(self, iterable)\u001b[0m\n\u001b[1;32m   1845\u001b[0m \u001b[38;5;28mself\u001b[39m\u001b[38;5;241m.\u001b[39mn_dispatched_batches \u001b[38;5;241m+\u001b[39m\u001b[38;5;241m=\u001b[39m \u001b[38;5;241m1\u001b[39m\n\u001b[1;32m   1846\u001b[0m \u001b[38;5;28mself\u001b[39m\u001b[38;5;241m.\u001b[39mn_dispatched_tasks \u001b[38;5;241m+\u001b[39m\u001b[38;5;241m=\u001b[39m \u001b[38;5;241m1\u001b[39m\n\u001b[0;32m-> 1847\u001b[0m res \u001b[38;5;241m=\u001b[39m \u001b[43mfunc\u001b[49m\u001b[43m(\u001b[49m\u001b[38;5;241;43m*\u001b[39;49m\u001b[43margs\u001b[49m\u001b[43m,\u001b[49m\u001b[43m \u001b[49m\u001b[38;5;241;43m*\u001b[39;49m\u001b[38;5;241;43m*\u001b[39;49m\u001b[43mkwargs\u001b[49m\u001b[43m)\u001b[49m\n\u001b[1;32m   1848\u001b[0m \u001b[38;5;28mself\u001b[39m\u001b[38;5;241m.\u001b[39mn_completed_tasks \u001b[38;5;241m+\u001b[39m\u001b[38;5;241m=\u001b[39m \u001b[38;5;241m1\u001b[39m\n\u001b[1;32m   1849\u001b[0m \u001b[38;5;28mself\u001b[39m\u001b[38;5;241m.\u001b[39mprint_progress()\n",
      "File \u001b[0;32m/opt/conda/envs/python3/lib/python3.9/site-packages/sklearn/utils/fixes.py:222\u001b[0m, in \u001b[0;36m_FuncWrapper.__call__\u001b[0;34m(self, *args, **kwargs)\u001b[0m\n\u001b[1;32m    220\u001b[0m \u001b[38;5;28;01mdef\u001b[39;00m \u001b[38;5;21m__call__\u001b[39m(\u001b[38;5;28mself\u001b[39m, \u001b[38;5;241m*\u001b[39margs, \u001b[38;5;241m*\u001b[39m\u001b[38;5;241m*\u001b[39mkwargs):\n\u001b[1;32m    221\u001b[0m     \u001b[38;5;28;01mwith\u001b[39;00m config_context(\u001b[38;5;241m*\u001b[39m\u001b[38;5;241m*\u001b[39m\u001b[38;5;28mself\u001b[39m\u001b[38;5;241m.\u001b[39mconfig):\n\u001b[0;32m--> 222\u001b[0m         \u001b[38;5;28;01mreturn\u001b[39;00m \u001b[38;5;28;43mself\u001b[39;49m\u001b[38;5;241;43m.\u001b[39;49m\u001b[43mfunction\u001b[49m\u001b[43m(\u001b[49m\u001b[38;5;241;43m*\u001b[39;49m\u001b[43margs\u001b[49m\u001b[43m,\u001b[49m\u001b[43m \u001b[49m\u001b[38;5;241;43m*\u001b[39;49m\u001b[38;5;241;43m*\u001b[39;49m\u001b[43mkwargs\u001b[49m\u001b[43m)\u001b[49m\n",
      "File \u001b[0;32m/opt/conda/envs/python3/lib/python3.9/site-packages/sklearn/ensemble/_forest.py:169\u001b[0m, in \u001b[0;36m_parallel_build_trees\u001b[0;34m(tree, forest, X, y, sample_weight, tree_idx, n_trees, verbose, class_weight, n_samples_bootstrap)\u001b[0m\n\u001b[1;32m    165\u001b[0m     \u001b[38;5;28;01melif\u001b[39;00m class_weight \u001b[38;5;241m==\u001b[39m \u001b[38;5;124m'\u001b[39m\u001b[38;5;124mbalanced_subsample\u001b[39m\u001b[38;5;124m'\u001b[39m:\n\u001b[1;32m    166\u001b[0m         curr_sample_weight \u001b[38;5;241m*\u001b[39m\u001b[38;5;241m=\u001b[39m compute_sample_weight(\u001b[38;5;124m'\u001b[39m\u001b[38;5;124mbalanced\u001b[39m\u001b[38;5;124m'\u001b[39m, y,\n\u001b[1;32m    167\u001b[0m                                                     indices\u001b[38;5;241m=\u001b[39mindices)\n\u001b[0;32m--> 169\u001b[0m     \u001b[43mtree\u001b[49m\u001b[38;5;241;43m.\u001b[39;49m\u001b[43mfit\u001b[49m\u001b[43m(\u001b[49m\u001b[43mX\u001b[49m\u001b[43m,\u001b[49m\u001b[43m \u001b[49m\u001b[43my\u001b[49m\u001b[43m,\u001b[49m\u001b[43m \u001b[49m\u001b[43msample_weight\u001b[49m\u001b[38;5;241;43m=\u001b[39;49m\u001b[43mcurr_sample_weight\u001b[49m\u001b[43m,\u001b[49m\u001b[43m \u001b[49m\u001b[43mcheck_input\u001b[49m\u001b[38;5;241;43m=\u001b[39;49m\u001b[38;5;28;43;01mFalse\u001b[39;49;00m\u001b[43m)\u001b[49m\n\u001b[1;32m    170\u001b[0m \u001b[38;5;28;01melse\u001b[39;00m:\n\u001b[1;32m    171\u001b[0m     tree\u001b[38;5;241m.\u001b[39mfit(X, y, sample_weight\u001b[38;5;241m=\u001b[39msample_weight, check_input\u001b[38;5;241m=\u001b[39m\u001b[38;5;28;01mFalse\u001b[39;00m)\n",
      "File \u001b[0;32m/opt/conda/envs/python3/lib/python3.9/site-packages/sklearn/tree/_classes.py:1247\u001b[0m, in \u001b[0;36mDecisionTreeRegressor.fit\u001b[0;34m(self, X, y, sample_weight, check_input, X_idx_sorted)\u001b[0m\n\u001b[1;32m   1211\u001b[0m \u001b[38;5;28;01mdef\u001b[39;00m \u001b[38;5;21mfit\u001b[39m(\u001b[38;5;28mself\u001b[39m, X, y, sample_weight\u001b[38;5;241m=\u001b[39m\u001b[38;5;28;01mNone\u001b[39;00m, check_input\u001b[38;5;241m=\u001b[39m\u001b[38;5;28;01mTrue\u001b[39;00m,\n\u001b[1;32m   1212\u001b[0m         X_idx_sorted\u001b[38;5;241m=\u001b[39m\u001b[38;5;124m\"\u001b[39m\u001b[38;5;124mdeprecated\u001b[39m\u001b[38;5;124m\"\u001b[39m):\n\u001b[1;32m   1213\u001b[0m \u001b[38;5;250m    \u001b[39m\u001b[38;5;124;03m\"\"\"Build a decision tree regressor from the training set (X, y).\u001b[39;00m\n\u001b[1;32m   1214\u001b[0m \n\u001b[1;32m   1215\u001b[0m \u001b[38;5;124;03m    Parameters\u001b[39;00m\n\u001b[0;32m   (...)\u001b[0m\n\u001b[1;32m   1244\u001b[0m \u001b[38;5;124;03m        Fitted estimator.\u001b[39;00m\n\u001b[1;32m   1245\u001b[0m \u001b[38;5;124;03m    \"\"\"\u001b[39;00m\n\u001b[0;32m-> 1247\u001b[0m     \u001b[38;5;28;43msuper\u001b[39;49m\u001b[43m(\u001b[49m\u001b[43m)\u001b[49m\u001b[38;5;241;43m.\u001b[39;49m\u001b[43mfit\u001b[49m\u001b[43m(\u001b[49m\n\u001b[1;32m   1248\u001b[0m \u001b[43m        \u001b[49m\u001b[43mX\u001b[49m\u001b[43m,\u001b[49m\u001b[43m \u001b[49m\u001b[43my\u001b[49m\u001b[43m,\u001b[49m\n\u001b[1;32m   1249\u001b[0m \u001b[43m        \u001b[49m\u001b[43msample_weight\u001b[49m\u001b[38;5;241;43m=\u001b[39;49m\u001b[43msample_weight\u001b[49m\u001b[43m,\u001b[49m\n\u001b[1;32m   1250\u001b[0m \u001b[43m        \u001b[49m\u001b[43mcheck_input\u001b[49m\u001b[38;5;241;43m=\u001b[39;49m\u001b[43mcheck_input\u001b[49m\u001b[43m,\u001b[49m\n\u001b[1;32m   1251\u001b[0m \u001b[43m        \u001b[49m\u001b[43mX_idx_sorted\u001b[49m\u001b[38;5;241;43m=\u001b[39;49m\u001b[43mX_idx_sorted\u001b[49m\u001b[43m)\u001b[49m\n\u001b[1;32m   1252\u001b[0m     \u001b[38;5;28;01mreturn\u001b[39;00m \u001b[38;5;28mself\u001b[39m\n",
      "File \u001b[0;32m/opt/conda/envs/python3/lib/python3.9/site-packages/sklearn/tree/_classes.py:389\u001b[0m, in \u001b[0;36mBaseDecisionTree.fit\u001b[0;34m(self, X, y, sample_weight, check_input, X_idx_sorted)\u001b[0m\n\u001b[1;32m    380\u001b[0m \u001b[38;5;28;01melse\u001b[39;00m:\n\u001b[1;32m    381\u001b[0m     builder \u001b[38;5;241m=\u001b[39m BestFirstTreeBuilder(splitter, min_samples_split,\n\u001b[1;32m    382\u001b[0m                                    min_samples_leaf,\n\u001b[1;32m    383\u001b[0m                                    min_weight_leaf,\n\u001b[0;32m   (...)\u001b[0m\n\u001b[1;32m    386\u001b[0m                                    \u001b[38;5;28mself\u001b[39m\u001b[38;5;241m.\u001b[39mmin_impurity_decrease,\n\u001b[1;32m    387\u001b[0m                                    min_impurity_split)\n\u001b[0;32m--> 389\u001b[0m \u001b[43mbuilder\u001b[49m\u001b[38;5;241;43m.\u001b[39;49m\u001b[43mbuild\u001b[49m\u001b[43m(\u001b[49m\u001b[38;5;28;43mself\u001b[39;49m\u001b[38;5;241;43m.\u001b[39;49m\u001b[43mtree_\u001b[49m\u001b[43m,\u001b[49m\u001b[43m \u001b[49m\u001b[43mX\u001b[49m\u001b[43m,\u001b[49m\u001b[43m \u001b[49m\u001b[43my\u001b[49m\u001b[43m,\u001b[49m\u001b[43m \u001b[49m\u001b[43msample_weight\u001b[49m\u001b[43m)\u001b[49m\n\u001b[1;32m    391\u001b[0m \u001b[38;5;28;01mif\u001b[39;00m \u001b[38;5;28mself\u001b[39m\u001b[38;5;241m.\u001b[39mn_outputs_ \u001b[38;5;241m==\u001b[39m \u001b[38;5;241m1\u001b[39m \u001b[38;5;129;01mand\u001b[39;00m is_classifier(\u001b[38;5;28mself\u001b[39m):\n\u001b[1;32m    392\u001b[0m     \u001b[38;5;28mself\u001b[39m\u001b[38;5;241m.\u001b[39mn_classes_ \u001b[38;5;241m=\u001b[39m \u001b[38;5;28mself\u001b[39m\u001b[38;5;241m.\u001b[39mn_classes_[\u001b[38;5;241m0\u001b[39m]\n",
      "\u001b[0;31mKeyboardInterrupt\u001b[0m: "
     ]
    }
   ],
   "source": [
    "from sklearn.ensemble import RandomForestRegressor, GradientBoostingRegressor\n",
    "from sklearn.model_selection import GridSearchCV\n",
    "\n",
    "# Define the features and targets\n",
    "X = train_data.drop(columns=['rougher.output.recovery', 'final.output.recovery'])\n",
    "y = train_data[['rougher.output.recovery', 'final.output.recovery']]\n",
    "\n",
    "# Split the data into training, validation, and test sets\n",
    "X_train_full, X_test, y_train_full, y_test = train_test_split(X, y, test_size=0.2, random_state=42)\n",
    "X_train, X_valid, y_train, y_valid = train_test_split(X_train_full, y_train_full, test_size=0.25, random_state=42)\n",
    "\n",
    "# Initialize the models\n",
    "rf_model = RandomForestRegressor(random_state=42)\n",
    "gb_model = GradientBoostingRegressor(random_state=42)\n",
    "\n",
    "# Define the parameter grids\n",
    "param_grid_rf = {\n",
    "    'n_estimators': [50, 100, 200],\n",
    "    'max_depth': [None, 10, 20],\n",
    "    'min_samples_split': [2, 5, 10]\n",
    "}\n",
    "\n",
    "param_grid_gb = {\n",
    "    'n_estimators': [50, 100, 200],\n",
    "    'learning_rate': [0.01, 0.1, 0.2],\n",
    "    'max_depth': [3, 5, 7]\n",
    "}\n",
    "\n",
    "# Perform GridSearchCV for RandomForestRegressor\n",
    "grid_search_rf = GridSearchCV(rf_model, param_grid_rf, cv=5, scoring=smape_scorer, n_jobs=-1)\n",
    "grid_search_rf.fit(X_train, y_train['final.output.recovery'])\n",
    "\n",
    "# Perform GridSearchCV for GradientBoostingRegressor\n",
    "grid_search_gb = GridSearchCV(gb_model, param_grid_gb, cv=5, scoring=smape_scorer, n_jobs=-1)\n",
    "grid_search_gb.fit(X_train, y_train['final.output.recovery'])\n",
    "\n",
    "# Get the best models\n",
    "best_rf_model = grid_search_rf.best_estimator_\n",
    "best_gb_model = grid_search_gb.best_estimator_\n",
    "\n",
    "# Evaluate the best models on the validation set\n",
    "rf_predictions = best_rf_model.predict(X_valid)\n",
    "gb_predictions = best_gb_model.predict(X_valid)\n",
    "\n",
    "rf_smape = smape(y_valid['final.output.recovery'], rf_predictions)\n",
    "gb_smape = smape(y_valid['final.output.recovery'], gb_predictions)\n",
    "\n",
    "print(f'RandomForestRegressor sMAPE: {rf_smape}')\n",
    "print(f'GradientBoostingRegressor sMAPE: {gb_smape}')\n",
    "\n",
    "# Choose the best model based on validation sMAPE\n",
    "best_model = best_rf_model if rf_smape < gb_smape else best_gb_model\n",
    "\n",
    "# Evaluate the best model on the test set\n",
    "test_predictions = best_model.predict(X_test)\n",
    "test_smape = smape(y_test['final.output.recovery'], test_predictions)\n",
    "\n",
    "print(f'Best Model sMAPE on Test Set: {test_smape}')\n"
   ]
  },
  {
   "cell_type": "markdown",
   "metadata": {},
   "source": [
    "# Conclusion\n",
    "In this project, we successfully prepared and analyzed the data, ensuring the correctness of the recovery calculations. We identified features not available in the test set and performed necessary data preprocessing. We analyzed the concentrations of metals at different purification stages and compared feed particle size distributions. Finally, we built and tuned predictive models using cross-validation and hyperparameter tuning, achieving a final sMAPE value on the test subset.\n",
    "\n",
    "# Business Insights\n",
    "1. **Improved Gold Recovery**: By accurately predicting gold recovery, the company can optimize the extraction process, leading to higher yields and increased profitability.\n",
    "2. **Cost Efficiency**: Identifying and eliminating anomalies in the data can help reduce operational costs by minimizing waste and improving resource allocation.\n",
    "3. **Process Optimization**: Analyzing the concentrations of metals at different stages provides valuable insights into the efficiency of the purification process, enabling targeted improvements.\n",
    "4. **Risk Management**: Understanding the variability in feed particle size distributions helps in managing risks associated with inconsistent raw material quality.\n"
   ]
  },
  {
   "cell_type": "markdown",
   "metadata": {},
   "source": [
    "<div class=\"alert alert-success\" style=\"border-radius: 15px; box-shadow: 4px 4px 4px; border: 1px solid \">\n",
    "<h2>   Reviewer's comment 2 </h2>\n",
    "    \n",
    "Nice code! \n",
    "    \n",
    "</div>\n",
    "<div class=\"alert alert-warning\" style=\"border-radius: 15px; box-shadow: 4px 4px 4px; border: 1px solid \">\n",
    "<h2>   Reviewer's comment 2 </h2>\n",
    "    \n",
    "IQR is often used to determine outliers in the normal distribution. Please keep in mind that not everything outside the boxplot whiskers is outlier. Likewise, not everything within whiskers is a normal data. This is because the whisker goes either to the maximum (minimum) or to 1.5 times the length of the box. The concentration of circles after the whiskers can be very high. Cutting off the whiskers, we can sometimes lose important information, as our sample can be really biased. \n",
    "\n",
    "</div>\n",
    "<div class=\"alert alert-danger\" style=\"border-radius: 15px; box-shadow: 4px 4px 4px; border: 1px solid \">\n",
    "<b>   Reviewer's comment 2</b>\n",
    "    \n",
    "- For total concentration analysis, please use `rougher.input.feed_`, `rougher.output.concentrate_`, and `final.output.concentrate_` columns and sum them each of the three metals. For instance, for the `rougher.output.concentrate_`, we sum `rougher.output.concentrate_au`, `rougher.output.concentrate_ag`, and `rougher.output.concentrate_pb` and display histogram. \n",
    "    \n",
    "    \n",
    "    \n",
    "- Display histograms and draw a conclusion. \n",
    "    \n",
    "    \n",
    "    \n",
    "- Are there any outliers? If yes, don't forget to drop them. \n",
    "    \n",
    "    \n",
    "    \n",
    "    \n",
    "</div>"
   ]
  },
  {
   "cell_type": "markdown",
   "metadata": {},
   "source": [
    "<div class=\"alert alert-success\" style=\"border-radius: 15px; box-shadow: 4px 4px 4px; border: 1px solid \">\n",
    "<h2>  Reviewer's comment 2 </h2>\n",
    "    \n",
    "Correct! \n",
    "\n",
    "</div>"
   ]
  },
  {
   "cell_type": "markdown",
   "metadata": {},
   "source": [
    "<div class=\"alert alert-success\" style=\"border-radius: 15px; box-shadow: 4px 4px 4px; border: 1px solid \">\n",
    "<h2>  Reviewer's comment 2 </h2>\n",
    "    \n",
    "Well done! The results may change though. \n",
    "</div>"
   ]
  },
  {
   "cell_type": "markdown",
   "metadata": {},
   "source": [
    "<div class=\"alert alert-danger\" style=\"border-radius: 15px; box-shadow: 4px 4px 4px; border: 1px solid \">\n",
    "<b>   Reviewer's comment </b>\n",
    "    \n",
    "- We have two target columns. \n",
    "    \n",
    "    \n",
    "- Our key metric is smape, not MAE. \n",
    "    \n",
    "    \n",
    "- Please try to tune hyperparameters. For hyperparameter tuning, use introduce and use validation subset please. \n",
    "    \n",
    "    \n",
    "- You may need to introduce scorer.\n",
    "\n",
    "\n",
    "\n",
    "- Try at least two different models. \n",
    "\n",
    "\n",
    "\n",
    "- Use the best model and evaluate it on the test subset. </div>"
   ]
  },
  {
   "cell_type": "markdown",
   "metadata": {},
   "source": [
    "<div class=\"alert alert-success\" style=\"border-radius: 15px; box-shadow: 4px 4px 4px; border: 1px solid \">\n",
    "<h2>  Reviewer's comment 2 </h2>\n",
    "    \n",
    "Great conclusion! \n",
    "</div>"
   ]
  },
  {
   "cell_type": "code",
   "execution_count": null,
   "metadata": {},
   "outputs": [],
   "source": []
  }
 ],
 "metadata": {
  "ExecuteTimeLog": [
   {
    "duration": 8,
    "start_time": "2025-01-20T01:07:04.320Z"
   },
   {
    "duration": 784,
    "start_time": "2025-01-20T01:07:24.641Z"
   },
   {
    "duration": 640,
    "start_time": "2025-01-20T01:08:03.435Z"
   },
   {
    "duration": 520,
    "start_time": "2025-01-20T01:08:33.451Z"
   },
   {
    "duration": 591,
    "start_time": "2025-01-20T01:09:37.229Z"
   },
   {
    "duration": 483,
    "start_time": "2025-01-20T01:12:45.754Z"
   },
   {
    "duration": 4,
    "start_time": "2025-01-20T01:14:06.552Z"
   },
   {
    "duration": 489,
    "start_time": "2025-01-20T01:15:10.821Z"
   },
   {
    "duration": 123,
    "start_time": "2025-01-20T01:16:07.542Z"
   },
   {
    "duration": 97,
    "start_time": "2025-01-20T01:21:16.901Z"
   },
   {
    "duration": 58,
    "start_time": "2025-01-20T01:21:20.683Z"
   },
   {
    "duration": 740,
    "start_time": "2025-01-20T01:21:40.961Z"
   },
   {
    "duration": 499,
    "start_time": "2025-01-20T01:21:41.703Z"
   },
   {
    "duration": 122,
    "start_time": "2025-01-20T01:21:42.204Z"
   },
   {
    "duration": 324,
    "start_time": "2025-01-20T01:21:42.328Z"
   },
   {
    "duration": 0,
    "start_time": "2025-01-20T01:21:42.654Z"
   },
   {
    "duration": 5,
    "start_time": "2025-01-20T01:22:55.235Z"
   },
   {
    "duration": 75,
    "start_time": "2025-01-20T01:23:12.909Z"
   },
   {
    "duration": 803,
    "start_time": "2025-01-20T01:23:52.974Z"
   },
   {
    "duration": 515,
    "start_time": "2025-01-20T01:23:53.779Z"
   },
   {
    "duration": 17,
    "start_time": "2025-01-20T01:23:54.296Z"
   },
   {
    "duration": 3,
    "start_time": "2025-01-20T01:23:54.315Z"
   },
   {
    "duration": 3,
    "start_time": "2025-01-20T01:24:50.276Z"
   },
   {
    "duration": 82,
    "start_time": "2025-01-20T01:28:13.573Z"
   },
   {
    "duration": 648,
    "start_time": "2025-01-20T01:29:37.074Z"
   },
   {
    "duration": 62,
    "start_time": "2025-01-20T01:32:55.224Z"
   },
   {
    "duration": 84,
    "start_time": "2025-01-20T01:33:52.623Z"
   },
   {
    "duration": 61,
    "start_time": "2025-01-20T01:35:17.953Z"
   },
   {
    "duration": 16,
    "start_time": "2025-01-20T01:35:46.315Z"
   },
   {
    "duration": 15,
    "start_time": "2025-01-20T01:37:23.906Z"
   },
   {
    "duration": 9,
    "start_time": "2025-01-20T01:38:23.378Z"
   },
   {
    "duration": 131,
    "start_time": "2025-01-20T01:39:18.420Z"
   },
   {
    "duration": 10,
    "start_time": "2025-01-20T01:39:38.529Z"
   },
   {
    "duration": 240945,
    "start_time": "2025-01-20T01:40:36.180Z"
   },
   {
    "duration": 5,
    "start_time": "2025-01-20T01:44:37.127Z"
   },
   {
    "duration": 83,
    "start_time": "2025-01-20T01:45:51.589Z"
   },
   {
    "duration": 3,
    "start_time": "2025-01-20T01:45:54.595Z"
   },
   {
    "duration": 16,
    "start_time": "2025-01-20T01:45:56.147Z"
   },
   {
    "duration": 802,
    "start_time": "2025-01-20T01:46:02.707Z"
   },
   {
    "duration": 530,
    "start_time": "2025-01-20T01:46:03.511Z"
   },
   {
    "duration": 112,
    "start_time": "2025-01-20T01:46:04.043Z"
   },
   {
    "duration": 3,
    "start_time": "2025-01-20T01:46:04.158Z"
   },
   {
    "duration": 31,
    "start_time": "2025-01-20T01:46:04.163Z"
   },
   {
    "duration": 8,
    "start_time": "2025-01-20T01:46:04.195Z"
   },
   {
    "duration": 9,
    "start_time": "2025-01-20T01:46:04.205Z"
   },
   {
    "duration": 759,
    "start_time": "2025-01-20T01:47:48.049Z"
   },
   {
    "duration": 516,
    "start_time": "2025-01-20T01:47:48.810Z"
   },
   {
    "duration": 109,
    "start_time": "2025-01-20T01:47:49.328Z"
   },
   {
    "duration": 4,
    "start_time": "2025-01-20T01:47:49.439Z"
   },
   {
    "duration": 17,
    "start_time": "2025-01-20T01:47:49.445Z"
   },
   {
    "duration": 24,
    "start_time": "2025-01-20T01:47:49.464Z"
   },
   {
    "duration": 8,
    "start_time": "2025-01-20T01:47:49.490Z"
   },
   {
    "duration": 740,
    "start_time": "2025-01-20T01:52:31.271Z"
   },
   {
    "duration": 509,
    "start_time": "2025-01-20T01:52:32.013Z"
   },
   {
    "duration": 15,
    "start_time": "2025-01-20T01:52:32.524Z"
   },
   {
    "duration": 4,
    "start_time": "2025-01-20T01:52:32.541Z"
   },
   {
    "duration": 16,
    "start_time": "2025-01-20T01:52:32.547Z"
   },
   {
    "duration": 29,
    "start_time": "2025-01-20T01:52:32.564Z"
   },
   {
    "duration": 9,
    "start_time": "2025-01-20T01:52:32.594Z"
   },
   {
    "duration": 166467,
    "start_time": "2025-01-20T01:52:32.604Z"
   },
   {
    "duration": 178,
    "start_time": "2025-01-20T03:05:23.534Z"
   },
   {
    "duration": 874,
    "start_time": "2025-01-20T03:05:30.052Z"
   },
   {
    "duration": 693,
    "start_time": "2025-01-20T03:05:30.928Z"
   },
   {
    "duration": 4,
    "start_time": "2025-01-20T03:05:31.623Z"
   },
   {
    "duration": 512,
    "start_time": "2025-01-20T03:05:31.630Z"
   },
   {
    "duration": 0,
    "start_time": "2025-01-20T03:05:32.144Z"
   },
   {
    "duration": 0,
    "start_time": "2025-01-20T03:05:32.145Z"
   },
   {
    "duration": 0,
    "start_time": "2025-01-20T03:05:32.147Z"
   },
   {
    "duration": 0,
    "start_time": "2025-01-20T03:05:32.148Z"
   },
   {
    "duration": 20,
    "start_time": "2025-01-20T03:06:34.315Z"
   },
   {
    "duration": 22,
    "start_time": "2025-01-20T03:07:52.923Z"
   },
   {
    "duration": 302,
    "start_time": "2025-01-20T03:08:03.642Z"
   },
   {
    "duration": 7,
    "start_time": "2025-01-20T03:08:45.424Z"
   },
   {
    "duration": 3087,
    "start_time": "2025-01-20T03:12:34.410Z"
   },
   {
    "duration": 996,
    "start_time": "2025-01-20T03:14:45.137Z"
   },
   {
    "duration": 502,
    "start_time": "2025-01-20T03:14:46.135Z"
   },
   {
    "duration": 3,
    "start_time": "2025-01-20T03:14:46.639Z"
   },
   {
    "duration": 21,
    "start_time": "2025-01-20T03:14:46.644Z"
   },
   {
    "duration": 6,
    "start_time": "2025-01-20T03:14:46.668Z"
   },
   {
    "duration": 1033,
    "start_time": "2025-01-20T03:14:46.676Z"
   },
   {
    "duration": 254,
    "start_time": "2025-01-20T03:14:47.710Z"
   },
   {
    "duration": 13,
    "start_time": "2025-01-20T03:14:47.966Z"
   },
   {
    "duration": 928,
    "start_time": "2025-01-20T03:16:34.553Z"
   },
   {
    "duration": 519,
    "start_time": "2025-01-20T03:16:35.484Z"
   },
   {
    "duration": 3,
    "start_time": "2025-01-20T03:16:36.005Z"
   },
   {
    "duration": 29,
    "start_time": "2025-01-20T03:16:36.011Z"
   },
   {
    "duration": 7,
    "start_time": "2025-01-20T03:16:36.042Z"
   },
   {
    "duration": 1043,
    "start_time": "2025-01-20T03:16:36.051Z"
   },
   {
    "duration": 245,
    "start_time": "2025-01-20T03:16:37.096Z"
   },
   {
    "duration": 14,
    "start_time": "2025-01-20T03:16:37.342Z"
   },
   {
    "duration": 239847,
    "start_time": "2025-01-20T03:16:37.358Z"
   },
   {
    "duration": 727,
    "start_time": "2025-01-20T03:20:37.208Z"
   },
   {
    "duration": 4,
    "start_time": "2025-01-20T03:24:35.322Z"
   },
   {
    "duration": 10,
    "start_time": "2025-01-20T03:25:05.855Z"
   },
   {
    "duration": 0,
    "start_time": "2025-01-20T03:56:38.307Z"
   },
   {
    "duration": 0,
    "start_time": "2025-01-20T03:56:38.308Z"
   },
   {
    "duration": 0,
    "start_time": "2025-01-20T03:56:38.309Z"
   },
   {
    "duration": 1749797,
    "start_time": "2025-01-20T03:56:47.123Z"
   },
   {
    "duration": 984,
    "start_time": "2025-01-20T04:27:02.820Z"
   },
   {
    "duration": 547,
    "start_time": "2025-01-20T04:27:03.807Z"
   },
   {
    "duration": 3,
    "start_time": "2025-01-20T04:27:04.358Z"
   },
   {
    "duration": 25,
    "start_time": "2025-01-20T04:27:04.363Z"
   },
   {
    "duration": 7,
    "start_time": "2025-01-20T04:27:04.391Z"
   },
   {
    "duration": 1093,
    "start_time": "2025-01-20T04:27:04.400Z"
   },
   {
    "duration": 255,
    "start_time": "2025-01-20T04:27:05.495Z"
   },
   {
    "duration": 692,
    "start_time": "2025-01-20T04:27:05.752Z"
   },
   {
    "duration": 4,
    "start_time": "2025-01-20T04:27:06.446Z"
   },
   {
    "duration": 12,
    "start_time": "2025-01-20T04:27:06.452Z"
   },
   {
    "duration": 2647,
    "start_time": "2025-01-20T17:31:22.002Z"
   },
   {
    "duration": 638,
    "start_time": "2025-01-20T17:31:24.652Z"
   },
   {
    "duration": 3,
    "start_time": "2025-01-20T17:31:25.292Z"
   },
   {
    "duration": 20,
    "start_time": "2025-01-20T17:31:25.297Z"
   },
   {
    "duration": 25,
    "start_time": "2025-01-20T17:31:25.320Z"
   },
   {
    "duration": 977,
    "start_time": "2025-01-20T17:31:25.346Z"
   },
   {
    "duration": 242,
    "start_time": "2025-01-20T17:31:26.325Z"
   },
   {
    "duration": 560,
    "start_time": "2025-01-20T17:31:26.568Z"
   },
   {
    "duration": 4,
    "start_time": "2025-01-20T17:31:27.129Z"
   },
   {
    "duration": 9,
    "start_time": "2025-01-20T17:31:27.143Z"
   },
   {
    "duration": 1506750,
    "start_time": "2025-01-20T17:31:27.154Z"
   },
   {
    "duration": 1,
    "start_time": "2025-01-20T17:56:33.905Z"
   },
   {
    "duration": 0,
    "start_time": "2025-01-20T17:56:33.907Z"
   },
   {
    "duration": 160,
    "start_time": "2025-01-20T18:01:25.464Z"
   },
   {
    "duration": 952,
    "start_time": "2025-01-20T18:01:39.847Z"
   },
   {
    "duration": 586,
    "start_time": "2025-01-20T18:01:40.801Z"
   },
   {
    "duration": 4,
    "start_time": "2025-01-20T18:01:41.389Z"
   },
   {
    "duration": 21,
    "start_time": "2025-01-20T18:01:41.396Z"
   },
   {
    "duration": 27,
    "start_time": "2025-01-20T18:01:41.419Z"
   },
   {
    "duration": 999,
    "start_time": "2025-01-20T18:01:41.447Z"
   },
   {
    "duration": 241,
    "start_time": "2025-01-20T18:01:42.448Z"
   },
   {
    "duration": 625,
    "start_time": "2025-01-20T18:01:42.691Z"
   },
   {
    "duration": 3,
    "start_time": "2025-01-20T18:01:43.317Z"
   },
   {
    "duration": 23,
    "start_time": "2025-01-20T18:01:43.324Z"
   },
   {
    "duration": 3503849,
    "start_time": "2025-01-20T18:01:43.349Z"
   },
   {
    "duration": 2442553,
    "start_time": "2025-01-20T19:00:07.201Z"
   },
   {
    "duration": 147,
    "start_time": "2025-01-20T19:40:49.756Z"
   },
   {
    "duration": 159,
    "start_time": "2025-01-21T06:07:05.789Z"
   },
   {
    "duration": 2850,
    "start_time": "2025-01-21T06:07:08.580Z"
   },
   {
    "duration": 692,
    "start_time": "2025-01-21T06:07:11.433Z"
   },
   {
    "duration": 4,
    "start_time": "2025-01-21T06:07:12.126Z"
   },
   {
    "duration": 21,
    "start_time": "2025-01-21T06:07:12.131Z"
   },
   {
    "duration": 6,
    "start_time": "2025-01-21T06:07:12.155Z"
   },
   {
    "duration": 946,
    "start_time": "2025-01-21T06:07:12.163Z"
   },
   {
    "duration": 247,
    "start_time": "2025-01-21T06:07:13.110Z"
   },
   {
    "duration": 620,
    "start_time": "2025-01-21T06:07:13.359Z"
   },
   {
    "duration": 3,
    "start_time": "2025-01-21T06:07:13.981Z"
   },
   {
    "duration": 10,
    "start_time": "2025-01-21T06:07:13.986Z"
   },
   {
    "duration": 5,
    "start_time": "2025-01-21T06:07:14.009Z"
   },
   {
    "duration": 163,
    "start_time": "2025-01-21T10:03:28.324Z"
   },
   {
    "duration": 2674,
    "start_time": "2025-01-21T10:03:33.836Z"
   },
   {
    "duration": 644,
    "start_time": "2025-01-21T10:03:36.512Z"
   },
   {
    "duration": 3,
    "start_time": "2025-01-21T10:03:38.400Z"
   },
   {
    "duration": 25,
    "start_time": "2025-01-21T10:03:42.263Z"
   },
   {
    "duration": 85,
    "start_time": "2025-01-21T10:03:51.260Z"
   },
   {
    "duration": 16,
    "start_time": "2025-01-21T10:04:04.754Z"
   },
   {
    "duration": 8,
    "start_time": "2025-01-21T10:06:49.079Z"
   },
   {
    "duration": 7,
    "start_time": "2025-01-21T10:07:02.288Z"
   },
   {
    "duration": 8,
    "start_time": "2025-01-21T10:07:21.707Z"
   },
   {
    "duration": 8,
    "start_time": "2025-01-21T10:07:55.519Z"
   },
   {
    "duration": 731,
    "start_time": "2025-01-21T10:15:20.540Z"
   },
   {
    "duration": 891,
    "start_time": "2025-01-21T10:19:24.565Z"
   },
   {
    "duration": 541,
    "start_time": "2025-01-21T10:19:25.458Z"
   },
   {
    "duration": 8,
    "start_time": "2025-01-21T10:19:26.000Z"
   },
   {
    "duration": 21,
    "start_time": "2025-01-21T10:19:26.010Z"
   },
   {
    "duration": 286,
    "start_time": "2025-01-21T10:19:26.034Z"
   },
   {
    "duration": 0,
    "start_time": "2025-01-21T10:19:26.322Z"
   },
   {
    "duration": 0,
    "start_time": "2025-01-21T10:19:26.323Z"
   },
   {
    "duration": 0,
    "start_time": "2025-01-21T10:19:26.324Z"
   },
   {
    "duration": 0,
    "start_time": "2025-01-21T10:19:26.325Z"
   },
   {
    "duration": 0,
    "start_time": "2025-01-21T10:19:26.326Z"
   },
   {
    "duration": 0,
    "start_time": "2025-01-21T10:19:26.327Z"
   },
   {
    "duration": 0,
    "start_time": "2025-01-21T10:19:26.328Z"
   },
   {
    "duration": 0,
    "start_time": "2025-01-21T10:19:26.328Z"
   },
   {
    "duration": 8,
    "start_time": "2025-01-21T10:21:09.706Z"
   },
   {
    "duration": 875,
    "start_time": "2025-01-21T10:21:19.104Z"
   },
   {
    "duration": 545,
    "start_time": "2025-01-21T10:21:19.981Z"
   },
   {
    "duration": 3,
    "start_time": "2025-01-21T10:21:20.528Z"
   },
   {
    "duration": 22,
    "start_time": "2025-01-21T10:21:20.533Z"
   },
   {
    "duration": 7,
    "start_time": "2025-01-21T10:21:20.558Z"
   },
   {
    "duration": 993,
    "start_time": "2025-01-21T10:21:20.567Z"
   },
   {
    "duration": 238,
    "start_time": "2025-01-21T10:21:21.561Z"
   },
   {
    "duration": 789,
    "start_time": "2025-01-21T10:21:21.808Z"
   },
   {
    "duration": 12,
    "start_time": "2025-01-21T10:21:22.599Z"
   },
   {
    "duration": 11,
    "start_time": "2025-01-21T10:21:22.612Z"
   },
   {
    "duration": 890,
    "start_time": "2025-01-21T10:22:32.300Z"
   },
   {
    "duration": 541,
    "start_time": "2025-01-21T10:22:33.193Z"
   },
   {
    "duration": 4,
    "start_time": "2025-01-21T10:22:33.735Z"
   },
   {
    "duration": 20,
    "start_time": "2025-01-21T10:22:33.742Z"
   },
   {
    "duration": 7,
    "start_time": "2025-01-21T10:22:33.764Z"
   },
   {
    "duration": 1000,
    "start_time": "2025-01-21T10:22:33.773Z"
   },
   {
    "duration": 248,
    "start_time": "2025-01-21T10:22:34.775Z"
   },
   {
    "duration": 822,
    "start_time": "2025-01-21T10:22:35.025Z"
   },
   {
    "duration": 3,
    "start_time": "2025-01-21T10:22:35.848Z"
   },
   {
    "duration": 9,
    "start_time": "2025-01-21T10:22:35.854Z"
   },
   {
    "duration": 104186,
    "start_time": "2025-01-21T10:22:35.865Z"
   },
   {
    "duration": 0,
    "start_time": "2025-01-21T10:24:20.053Z"
   },
   {
    "duration": 0,
    "start_time": "2025-01-21T10:24:20.054Z"
   },
   {
    "duration": 921,
    "start_time": "2025-01-21T10:25:37.455Z"
   },
   {
    "duration": 519,
    "start_time": "2025-01-21T10:25:38.378Z"
   },
   {
    "duration": 4,
    "start_time": "2025-01-21T10:25:38.898Z"
   },
   {
    "duration": 23,
    "start_time": "2025-01-21T10:25:38.911Z"
   },
   {
    "duration": 8,
    "start_time": "2025-01-21T10:25:38.936Z"
   },
   {
    "duration": 1033,
    "start_time": "2025-01-21T10:25:38.946Z"
   },
   {
    "duration": 252,
    "start_time": "2025-01-21T10:25:39.981Z"
   },
   {
    "duration": 843,
    "start_time": "2025-01-21T10:25:40.235Z"
   },
   {
    "duration": 4,
    "start_time": "2025-01-21T10:25:41.080Z"
   },
   {
    "duration": 25,
    "start_time": "2025-01-21T10:25:41.087Z"
   },
   {
    "duration": 3507787,
    "start_time": "2025-01-21T10:25:41.114Z"
   },
   {
    "duration": 180,
    "start_time": "2025-01-21T22:43:43.212Z"
   },
   {
    "duration": 2720,
    "start_time": "2025-01-21T22:43:54.123Z"
   },
   {
    "duration": 717,
    "start_time": "2025-01-21T22:43:56.846Z"
   },
   {
    "duration": 3,
    "start_time": "2025-01-21T22:43:57.565Z"
   },
   {
    "duration": 3,
    "start_time": "2025-01-21T22:44:22.949Z"
   },
   {
    "duration": 527,
    "start_time": "2025-01-21T22:44:22.955Z"
   },
   {
    "duration": 4,
    "start_time": "2025-01-21T22:44:23.484Z"
   },
   {
    "duration": 23,
    "start_time": "2025-01-21T22:44:23.489Z"
   },
   {
    "duration": 20,
    "start_time": "2025-01-21T22:44:23.514Z"
   },
   {
    "duration": 1005,
    "start_time": "2025-01-21T22:44:23.536Z"
   },
   {
    "duration": 241,
    "start_time": "2025-01-21T22:44:24.545Z"
   },
   {
    "duration": 860,
    "start_time": "2025-01-21T22:44:24.788Z"
   },
   {
    "duration": 3,
    "start_time": "2025-01-21T22:44:25.650Z"
   },
   {
    "duration": 9,
    "start_time": "2025-01-21T22:44:36.678Z"
   },
   {
    "duration": 2419024,
    "start_time": "2025-01-21T22:44:41.278Z"
   },
   {
    "duration": 89,
    "start_time": "2025-01-21T23:25:00.304Z"
   },
   {
    "duration": 2928,
    "start_time": "2025-01-22T05:05:30.137Z"
   },
   {
    "duration": 16,
    "start_time": "2025-01-22T05:05:46.191Z"
   },
   {
    "duration": 16,
    "start_time": "2025-01-22T05:06:53.490Z"
   },
   {
    "duration": 20,
    "start_time": "2025-01-22T05:08:05.463Z"
   },
   {
    "duration": 0,
    "start_time": "2025-01-22T05:08:05.485Z"
   },
   {
    "duration": 0,
    "start_time": "2025-01-22T05:08:05.486Z"
   },
   {
    "duration": 0,
    "start_time": "2025-01-22T05:08:05.487Z"
   },
   {
    "duration": 0,
    "start_time": "2025-01-22T05:08:05.487Z"
   },
   {
    "duration": 0,
    "start_time": "2025-01-22T05:08:05.488Z"
   },
   {
    "duration": 0,
    "start_time": "2025-01-22T05:08:05.489Z"
   },
   {
    "duration": 0,
    "start_time": "2025-01-22T05:08:05.490Z"
   },
   {
    "duration": 0,
    "start_time": "2025-01-22T05:08:05.491Z"
   },
   {
    "duration": 14,
    "start_time": "2025-01-22T05:08:15.272Z"
   },
   {
    "duration": 21,
    "start_time": "2025-01-22T05:09:04.457Z"
   },
   {
    "duration": 0,
    "start_time": "2025-01-22T05:09:04.480Z"
   },
   {
    "duration": 0,
    "start_time": "2025-01-22T05:09:04.480Z"
   },
   {
    "duration": 0,
    "start_time": "2025-01-22T05:09:04.481Z"
   },
   {
    "duration": 0,
    "start_time": "2025-01-22T05:09:04.483Z"
   },
   {
    "duration": 0,
    "start_time": "2025-01-22T05:09:04.484Z"
   },
   {
    "duration": 0,
    "start_time": "2025-01-22T05:09:04.485Z"
   },
   {
    "duration": 0,
    "start_time": "2025-01-22T05:09:04.486Z"
   },
   {
    "duration": 0,
    "start_time": "2025-01-22T05:09:04.487Z"
   },
   {
    "duration": 3,
    "start_time": "2025-01-22T05:11:04.003Z"
   },
   {
    "duration": 631,
    "start_time": "2025-01-22T05:11:04.010Z"
   },
   {
    "duration": 3,
    "start_time": "2025-01-22T05:11:04.643Z"
   },
   {
    "duration": 27,
    "start_time": "2025-01-22T05:11:04.648Z"
   },
   {
    "duration": 7,
    "start_time": "2025-01-22T05:11:04.677Z"
   },
   {
    "duration": 961,
    "start_time": "2025-01-22T05:11:04.686Z"
   },
   {
    "duration": 320,
    "start_time": "2025-01-22T05:11:05.649Z"
   },
   {
    "duration": 744,
    "start_time": "2025-01-22T05:11:05.971Z"
   },
   {
    "duration": 3,
    "start_time": "2025-01-22T05:11:06.717Z"
   },
   {
    "duration": 11,
    "start_time": "2025-01-22T05:11:10.140Z"
   },
   {
    "duration": 16,
    "start_time": "2025-01-22T05:11:17.158Z"
   },
   {
    "duration": 19,
    "start_time": "2025-01-22T05:12:57.862Z"
   },
   {
    "duration": 15,
    "start_time": "2025-01-22T05:14:23.691Z"
   },
   {
    "duration": 18,
    "start_time": "2025-01-22T05:19:11.117Z"
   },
   {
    "duration": 17,
    "start_time": "2025-01-22T05:24:09.848Z"
   },
   {
    "duration": 916,
    "start_time": "2025-01-22T05:24:19.599Z"
   },
   {
    "duration": 528,
    "start_time": "2025-01-22T05:24:20.518Z"
   },
   {
    "duration": 3,
    "start_time": "2025-01-22T05:24:21.047Z"
   },
   {
    "duration": 23,
    "start_time": "2025-01-22T05:24:21.052Z"
   },
   {
    "duration": 7,
    "start_time": "2025-01-22T05:24:21.079Z"
   },
   {
    "duration": 1002,
    "start_time": "2025-01-22T05:24:21.087Z"
   },
   {
    "duration": 264,
    "start_time": "2025-01-22T05:24:22.091Z"
   },
   {
    "duration": 790,
    "start_time": "2025-01-22T05:24:22.357Z"
   },
   {
    "duration": 3,
    "start_time": "2025-01-22T05:24:23.149Z"
   },
   {
    "duration": 10,
    "start_time": "2025-01-22T05:24:23.154Z"
   },
   {
    "duration": 3432420,
    "start_time": "2025-01-22T05:24:23.166Z"
   },
   {
    "duration": 2391015,
    "start_time": "2025-01-22T06:21:35.588Z"
   },
   {
    "duration": 240,
    "start_time": "2025-01-22T07:01:26.609Z"
   },
   {
    "duration": 151,
    "start_time": "2025-01-22T07:28:45.983Z"
   },
   {
    "duration": 167,
    "start_time": "2025-01-22T10:18:27.983Z"
   },
   {
    "duration": 2622,
    "start_time": "2025-01-22T10:18:34.465Z"
   },
   {
    "duration": 661,
    "start_time": "2025-01-22T10:18:37.089Z"
   },
   {
    "duration": 3,
    "start_time": "2025-01-22T10:18:38.786Z"
   },
   {
    "duration": 341,
    "start_time": "2025-01-22T10:18:45.067Z"
   },
   {
    "duration": 3,
    "start_time": "2025-01-22T10:19:28.840Z"
   },
   {
    "duration": 47,
    "start_time": "2025-01-22T10:20:04.197Z"
   },
   {
    "duration": 112,
    "start_time": "2025-01-22T10:21:00.012Z"
   },
   {
    "duration": 45,
    "start_time": "2025-01-22T10:21:47.890Z"
   },
   {
    "duration": 4,
    "start_time": "2025-01-22T10:23:27.530Z"
   },
   {
    "duration": 3,
    "start_time": "2025-01-22T10:24:11.198Z"
   },
   {
    "duration": 513,
    "start_time": "2025-01-22T10:24:12.673Z"
   },
   {
    "duration": 3,
    "start_time": "2025-01-22T10:24:15.519Z"
   },
   {
    "duration": 47,
    "start_time": "2025-01-22T10:26:02.642Z"
   },
   {
    "duration": 3,
    "start_time": "2025-01-22T10:26:13.974Z"
   },
   {
    "duration": 38,
    "start_time": "2025-01-22T10:40:21.069Z"
   },
   {
    "duration": 23,
    "start_time": "2025-01-22T10:41:50.752Z"
   },
   {
    "duration": 5,
    "start_time": "2025-01-22T10:41:58.836Z"
   },
   {
    "duration": 522,
    "start_time": "2025-01-22T10:41:59.572Z"
   },
   {
    "duration": 3,
    "start_time": "2025-01-22T10:42:00.406Z"
   },
   {
    "duration": 3,
    "start_time": "2025-01-22T10:42:02.930Z"
   },
   {
    "duration": 53,
    "start_time": "2025-01-22T10:42:07.446Z"
   },
   {
    "duration": 51,
    "start_time": "2025-01-22T10:43:03.940Z"
   },
   {
    "duration": 6,
    "start_time": "2025-01-22T10:43:58.935Z"
   },
   {
    "duration": 226,
    "start_time": "2025-01-22T10:49:58.566Z"
   },
   {
    "duration": 3,
    "start_time": "2025-01-22T10:50:06.919Z"
   },
   {
    "duration": 524,
    "start_time": "2025-01-22T10:50:07.651Z"
   },
   {
    "duration": 3,
    "start_time": "2025-01-22T10:50:08.330Z"
   },
   {
    "duration": 6,
    "start_time": "2025-01-22T10:50:10.471Z"
   },
   {
    "duration": 49,
    "start_time": "2025-01-22T10:50:11.883Z"
   },
   {
    "duration": 51,
    "start_time": "2025-01-22T10:51:11.237Z"
   },
   {
    "duration": 48,
    "start_time": "2025-01-22T10:51:48.743Z"
   },
   {
    "duration": 47,
    "start_time": "2025-01-22T10:56:47.143Z"
   },
   {
    "duration": 3,
    "start_time": "2025-01-22T10:56:58.376Z"
   },
   {
    "duration": 491,
    "start_time": "2025-01-22T10:57:00.408Z"
   },
   {
    "duration": 3,
    "start_time": "2025-01-22T10:57:02.293Z"
   },
   {
    "duration": 46,
    "start_time": "2025-01-22T10:57:08.684Z"
   },
   {
    "duration": 503,
    "start_time": "2025-01-22T11:00:39.443Z"
   },
   {
    "duration": 2858,
    "start_time": "2025-01-22T17:05:22.123Z"
   },
   {
    "duration": 589,
    "start_time": "2025-01-22T17:05:24.983Z"
   },
   {
    "duration": 3,
    "start_time": "2025-01-22T17:05:25.574Z"
   },
   {
    "duration": 504,
    "start_time": "2025-01-22T17:05:25.579Z"
   },
   {
    "duration": 386,
    "start_time": "2025-01-22T17:05:26.087Z"
   },
   {
    "duration": 0,
    "start_time": "2025-01-22T17:05:26.475Z"
   },
   {
    "duration": 0,
    "start_time": "2025-01-22T17:05:26.476Z"
   },
   {
    "duration": 1,
    "start_time": "2025-01-22T17:05:26.477Z"
   },
   {
    "duration": 0,
    "start_time": "2025-01-22T17:05:26.479Z"
   },
   {
    "duration": 0,
    "start_time": "2025-01-22T17:05:26.481Z"
   },
   {
    "duration": 0,
    "start_time": "2025-01-22T17:05:26.482Z"
   },
   {
    "duration": 0,
    "start_time": "2025-01-22T17:05:26.484Z"
   },
   {
    "duration": 0,
    "start_time": "2025-01-22T17:05:26.485Z"
   },
   {
    "duration": 161,
    "start_time": "2025-01-22T20:45:31.078Z"
   },
   {
    "duration": 2724,
    "start_time": "2025-01-22T20:46:17.424Z"
   },
   {
    "duration": 648,
    "start_time": "2025-01-22T20:46:20.150Z"
   },
   {
    "duration": 6,
    "start_time": "2025-01-22T20:46:20.799Z"
   },
   {
    "duration": 517,
    "start_time": "2025-01-22T20:46:20.808Z"
   },
   {
    "duration": 424,
    "start_time": "2025-01-22T20:46:21.327Z"
   },
   {
    "duration": 0,
    "start_time": "2025-01-22T20:46:21.754Z"
   },
   {
    "duration": 0,
    "start_time": "2025-01-22T20:46:21.755Z"
   },
   {
    "duration": 0,
    "start_time": "2025-01-22T20:46:21.756Z"
   },
   {
    "duration": 0,
    "start_time": "2025-01-22T20:46:21.757Z"
   },
   {
    "duration": 0,
    "start_time": "2025-01-22T20:46:21.759Z"
   },
   {
    "duration": 0,
    "start_time": "2025-01-22T20:46:21.760Z"
   },
   {
    "duration": 0,
    "start_time": "2025-01-22T20:46:21.761Z"
   },
   {
    "duration": 0,
    "start_time": "2025-01-22T20:46:21.762Z"
   },
   {
    "duration": 45,
    "start_time": "2025-01-22T20:49:47.579Z"
   },
   {
    "duration": 60,
    "start_time": "2025-01-22T20:50:31.623Z"
   },
   {
    "duration": 97,
    "start_time": "2025-01-22T20:51:15.780Z"
   },
   {
    "duration": 526,
    "start_time": "2025-01-22T20:56:11.055Z"
   },
   {
    "duration": 61,
    "start_time": "2025-01-22T20:56:36.033Z"
   },
   {
    "duration": 920,
    "start_time": "2025-01-22T20:57:10.425Z"
   },
   {
    "duration": 507,
    "start_time": "2025-01-22T20:57:11.348Z"
   },
   {
    "duration": 3,
    "start_time": "2025-01-22T20:57:11.857Z"
   },
   {
    "duration": 526,
    "start_time": "2025-01-22T20:57:11.862Z"
   },
   {
    "duration": 416,
    "start_time": "2025-01-22T20:57:12.390Z"
   },
   {
    "duration": 0,
    "start_time": "2025-01-22T20:57:12.808Z"
   },
   {
    "duration": 0,
    "start_time": "2025-01-22T20:57:12.810Z"
   },
   {
    "duration": 0,
    "start_time": "2025-01-22T20:57:12.811Z"
   },
   {
    "duration": 0,
    "start_time": "2025-01-22T20:57:12.812Z"
   },
   {
    "duration": 0,
    "start_time": "2025-01-22T20:57:12.813Z"
   },
   {
    "duration": 0,
    "start_time": "2025-01-22T20:57:12.814Z"
   },
   {
    "duration": 0,
    "start_time": "2025-01-22T20:57:12.815Z"
   },
   {
    "duration": 0,
    "start_time": "2025-01-22T20:57:12.816Z"
   },
   {
    "duration": 921,
    "start_time": "2025-01-22T20:58:13.925Z"
   },
   {
    "duration": 503,
    "start_time": "2025-01-22T20:58:14.848Z"
   },
   {
    "duration": 3,
    "start_time": "2025-01-22T20:58:15.353Z"
   },
   {
    "duration": 61,
    "start_time": "2025-01-22T20:58:15.358Z"
   },
   {
    "duration": 382,
    "start_time": "2025-01-22T20:58:15.422Z"
   },
   {
    "duration": 0,
    "start_time": "2025-01-22T20:58:15.806Z"
   },
   {
    "duration": 0,
    "start_time": "2025-01-22T20:58:15.807Z"
   },
   {
    "duration": 0,
    "start_time": "2025-01-22T20:58:15.808Z"
   },
   {
    "duration": 0,
    "start_time": "2025-01-22T20:58:15.810Z"
   },
   {
    "duration": 0,
    "start_time": "2025-01-22T20:58:15.811Z"
   },
   {
    "duration": 0,
    "start_time": "2025-01-22T20:58:15.812Z"
   },
   {
    "duration": 0,
    "start_time": "2025-01-22T20:58:15.813Z"
   },
   {
    "duration": 0,
    "start_time": "2025-01-22T20:58:15.815Z"
   },
   {
    "duration": 57,
    "start_time": "2025-01-22T20:59:05.898Z"
   },
   {
    "duration": 117,
    "start_time": "2025-01-22T20:59:59.823Z"
   },
   {
    "duration": 62,
    "start_time": "2025-01-22T21:03:23.385Z"
   },
   {
    "duration": 60,
    "start_time": "2025-01-22T21:03:36.812Z"
   },
   {
    "duration": 57,
    "start_time": "2025-01-22T21:03:47.961Z"
   },
   {
    "duration": 241,
    "start_time": "2025-01-22T21:08:02.154Z"
   },
   {
    "duration": 48,
    "start_time": "2025-01-22T21:08:03.837Z"
   },
   {
    "duration": 58,
    "start_time": "2025-01-22T21:08:08.177Z"
   },
   {
    "duration": 47,
    "start_time": "2025-01-22T21:08:26.941Z"
   },
   {
    "duration": 241,
    "start_time": "2025-01-22T21:08:27.569Z"
   },
   {
    "duration": 64,
    "start_time": "2025-01-22T21:08:31.529Z"
   },
   {
    "duration": 121,
    "start_time": "2025-01-22T21:09:30.999Z"
   },
   {
    "duration": 6,
    "start_time": "2025-01-22T21:10:18.932Z"
   },
   {
    "duration": 112,
    "start_time": "2025-01-22T21:10:20.914Z"
   },
   {
    "duration": 4,
    "start_time": "2025-01-22T21:11:30.649Z"
   },
   {
    "duration": 664,
    "start_time": "2025-01-22T21:15:03.568Z"
   },
   {
    "duration": 108,
    "start_time": "2025-01-22T21:15:55.688Z"
   },
   {
    "duration": 98,
    "start_time": "2025-01-22T21:16:45.624Z"
   },
   {
    "duration": 99,
    "start_time": "2025-01-22T21:18:46.407Z"
   },
   {
    "duration": 107,
    "start_time": "2025-01-22T21:19:42.234Z"
   },
   {
    "duration": 570,
    "start_time": "2025-01-22T21:19:58.064Z"
   },
   {
    "duration": 573,
    "start_time": "2025-01-22T21:21:28.961Z"
   },
   {
    "duration": 11,
    "start_time": "2025-01-22T21:24:34.584Z"
   },
   {
    "duration": 56,
    "start_time": "2025-01-22T21:24:39.123Z"
   },
   {
    "duration": 4,
    "start_time": "2025-01-22T21:24:42.874Z"
   },
   {
    "duration": 60,
    "start_time": "2025-01-22T21:24:57.375Z"
   },
   {
    "duration": 58,
    "start_time": "2025-01-22T21:25:07.764Z"
   },
   {
    "duration": 64,
    "start_time": "2025-01-22T21:31:20.385Z"
   },
   {
    "duration": 504,
    "start_time": "2025-01-22T21:31:58.239Z"
   },
   {
    "duration": 59,
    "start_time": "2025-01-22T21:34:54.855Z"
   },
   {
    "duration": 562,
    "start_time": "2025-01-22T21:35:40.614Z"
   },
   {
    "duration": 38,
    "start_time": "2025-01-22T21:38:11.322Z"
   },
   {
    "duration": 42,
    "start_time": "2025-01-22T21:44:43.227Z"
   },
   {
    "duration": 7,
    "start_time": "2025-01-22T21:44:59.723Z"
   },
   {
    "duration": 3,
    "start_time": "2025-01-22T21:45:33.539Z"
   },
   {
    "duration": 7,
    "start_time": "2025-01-22T21:45:35.552Z"
   },
   {
    "duration": 38,
    "start_time": "2025-01-22T21:45:37.601Z"
   },
   {
    "duration": 929,
    "start_time": "2025-01-22T21:46:43.612Z"
   },
   {
    "duration": 514,
    "start_time": "2025-01-22T21:46:44.543Z"
   },
   {
    "duration": 3,
    "start_time": "2025-01-22T21:46:45.059Z"
   },
   {
    "duration": 6,
    "start_time": "2025-01-22T21:46:45.065Z"
   },
   {
    "duration": 67,
    "start_time": "2025-01-22T21:46:45.073Z"
   },
   {
    "duration": 8,
    "start_time": "2025-01-22T21:46:45.142Z"
   },
   {
    "duration": 8,
    "start_time": "2025-01-22T21:46:45.151Z"
   },
   {
    "duration": 1000,
    "start_time": "2025-01-22T21:46:45.161Z"
   },
   {
    "duration": 252,
    "start_time": "2025-01-22T21:46:46.162Z"
   },
   {
    "duration": 831,
    "start_time": "2025-01-22T21:46:46.417Z"
   },
   {
    "duration": 3,
    "start_time": "2025-01-22T21:46:47.251Z"
   },
   {
    "duration": 235,
    "start_time": "2025-01-22T21:46:47.256Z"
   },
   {
    "duration": 0,
    "start_time": "2025-01-22T21:46:47.492Z"
   },
   {
    "duration": 0,
    "start_time": "2025-01-22T21:46:47.494Z"
   },
   {
    "duration": 0,
    "start_time": "2025-01-22T21:46:47.495Z"
   },
   {
    "duration": 903,
    "start_time": "2025-01-22T21:50:18.251Z"
   },
   {
    "duration": 503,
    "start_time": "2025-01-22T21:50:19.157Z"
   },
   {
    "duration": 3,
    "start_time": "2025-01-22T21:50:19.662Z"
   },
   {
    "duration": 5,
    "start_time": "2025-01-22T21:50:19.668Z"
   },
   {
    "duration": 63,
    "start_time": "2025-01-22T21:50:19.676Z"
   },
   {
    "duration": 303,
    "start_time": "2025-01-22T21:50:19.741Z"
   },
   {
    "duration": 0,
    "start_time": "2025-01-22T21:50:20.046Z"
   },
   {
    "duration": 0,
    "start_time": "2025-01-22T21:50:20.048Z"
   },
   {
    "duration": 0,
    "start_time": "2025-01-22T21:50:20.049Z"
   },
   {
    "duration": 0,
    "start_time": "2025-01-22T21:50:20.051Z"
   },
   {
    "duration": 0,
    "start_time": "2025-01-22T21:50:20.052Z"
   },
   {
    "duration": 0,
    "start_time": "2025-01-22T21:50:20.054Z"
   },
   {
    "duration": 0,
    "start_time": "2025-01-22T21:50:20.055Z"
   },
   {
    "duration": 0,
    "start_time": "2025-01-22T21:50:20.057Z"
   },
   {
    "duration": 43,
    "start_time": "2025-01-22T21:51:22.930Z"
   },
   {
    "duration": 16,
    "start_time": "2025-01-22T21:51:25.353Z"
   },
   {
    "duration": 957,
    "start_time": "2025-01-22T21:52:02.718Z"
   },
   {
    "duration": 49,
    "start_time": "2025-01-22T21:53:00.647Z"
   },
   {
    "duration": 947,
    "start_time": "2025-01-22T21:53:10.809Z"
   },
   {
    "duration": 505,
    "start_time": "2025-01-22T21:53:11.758Z"
   },
   {
    "duration": 704,
    "start_time": "2025-01-22T21:53:12.265Z"
   },
   {
    "duration": 0,
    "start_time": "2025-01-22T21:53:12.972Z"
   },
   {
    "duration": 0,
    "start_time": "2025-01-22T21:53:12.972Z"
   },
   {
    "duration": 0,
    "start_time": "2025-01-22T21:53:12.974Z"
   },
   {
    "duration": 0,
    "start_time": "2025-01-22T21:53:12.974Z"
   },
   {
    "duration": 0,
    "start_time": "2025-01-22T21:53:12.976Z"
   },
   {
    "duration": 0,
    "start_time": "2025-01-22T21:53:12.977Z"
   },
   {
    "duration": 0,
    "start_time": "2025-01-22T21:53:12.978Z"
   },
   {
    "duration": 0,
    "start_time": "2025-01-22T21:53:12.979Z"
   },
   {
    "duration": 0,
    "start_time": "2025-01-22T21:53:12.981Z"
   },
   {
    "duration": 0,
    "start_time": "2025-01-22T21:53:12.982Z"
   },
   {
    "duration": 0,
    "start_time": "2025-01-22T21:53:12.983Z"
   },
   {
    "duration": 573,
    "start_time": "2025-01-22T21:53:43.030Z"
   },
   {
    "duration": 559,
    "start_time": "2025-01-22T21:54:20.530Z"
   },
   {
    "duration": 625,
    "start_time": "2025-01-22T21:55:03.859Z"
   },
   {
    "duration": 99,
    "start_time": "2025-01-22T21:56:13.342Z"
   },
   {
    "duration": 568,
    "start_time": "2025-01-22T21:57:06.049Z"
   },
   {
    "duration": 117,
    "start_time": "2025-01-22T21:57:48.732Z"
   },
   {
    "duration": 41,
    "start_time": "2025-01-22T22:01:07.149Z"
   },
   {
    "duration": 8,
    "start_time": "2025-01-22T22:01:09.432Z"
   },
   {
    "duration": 47,
    "start_time": "2025-01-22T22:02:09.377Z"
   },
   {
    "duration": 46,
    "start_time": "2025-01-22T22:02:45.403Z"
   },
   {
    "duration": 64,
    "start_time": "2025-01-22T22:03:38.707Z"
   },
   {
    "duration": 58,
    "start_time": "2025-01-22T22:04:13.435Z"
   },
   {
    "duration": 499,
    "start_time": "2025-01-22T22:04:45.756Z"
   },
   {
    "duration": 902,
    "start_time": "2025-01-22T22:05:33.237Z"
   },
   {
    "duration": 532,
    "start_time": "2025-01-22T22:05:34.141Z"
   },
   {
    "duration": 3,
    "start_time": "2025-01-22T22:05:34.675Z"
   },
   {
    "duration": 6,
    "start_time": "2025-01-22T22:05:34.681Z"
   },
   {
    "duration": 58,
    "start_time": "2025-01-22T22:05:34.689Z"
   },
   {
    "duration": 815,
    "start_time": "2025-01-22T22:05:34.750Z"
   },
   {
    "duration": 0,
    "start_time": "2025-01-22T22:05:35.567Z"
   },
   {
    "duration": 0,
    "start_time": "2025-01-22T22:05:35.568Z"
   },
   {
    "duration": 0,
    "start_time": "2025-01-22T22:05:35.568Z"
   },
   {
    "duration": 0,
    "start_time": "2025-01-22T22:05:35.569Z"
   },
   {
    "duration": 0,
    "start_time": "2025-01-22T22:05:35.570Z"
   },
   {
    "duration": 0,
    "start_time": "2025-01-22T22:05:35.572Z"
   },
   {
    "duration": 0,
    "start_time": "2025-01-22T22:05:35.572Z"
   },
   {
    "duration": 0,
    "start_time": "2025-01-22T22:05:35.574Z"
   },
   {
    "duration": 868,
    "start_time": "2025-01-22T22:06:18.697Z"
   },
   {
    "duration": 513,
    "start_time": "2025-01-22T22:06:19.568Z"
   },
   {
    "duration": 4,
    "start_time": "2025-01-22T22:06:20.083Z"
   },
   {
    "duration": 7,
    "start_time": "2025-01-22T22:06:20.089Z"
   },
   {
    "duration": 823,
    "start_time": "2025-01-22T22:06:20.106Z"
   },
   {
    "duration": 0,
    "start_time": "2025-01-22T22:06:20.931Z"
   },
   {
    "duration": 0,
    "start_time": "2025-01-22T22:06:20.932Z"
   },
   {
    "duration": 0,
    "start_time": "2025-01-22T22:06:20.933Z"
   },
   {
    "duration": 0,
    "start_time": "2025-01-22T22:06:20.934Z"
   },
   {
    "duration": 0,
    "start_time": "2025-01-22T22:06:20.935Z"
   },
   {
    "duration": 0,
    "start_time": "2025-01-22T22:06:20.936Z"
   },
   {
    "duration": 0,
    "start_time": "2025-01-22T22:06:20.937Z"
   },
   {
    "duration": 0,
    "start_time": "2025-01-22T22:06:20.939Z"
   },
   {
    "duration": 520,
    "start_time": "2025-01-22T22:06:38.952Z"
   },
   {
    "duration": 921,
    "start_time": "2025-01-22T22:06:45.541Z"
   },
   {
    "duration": 511,
    "start_time": "2025-01-22T22:06:46.464Z"
   },
   {
    "duration": 3,
    "start_time": "2025-01-22T22:06:46.977Z"
   },
   {
    "duration": 833,
    "start_time": "2025-01-22T22:06:46.983Z"
   },
   {
    "duration": 0,
    "start_time": "2025-01-22T22:06:47.818Z"
   },
   {
    "duration": 0,
    "start_time": "2025-01-22T22:06:47.819Z"
   },
   {
    "duration": 0,
    "start_time": "2025-01-22T22:06:47.820Z"
   },
   {
    "duration": 0,
    "start_time": "2025-01-22T22:06:47.821Z"
   },
   {
    "duration": 0,
    "start_time": "2025-01-22T22:06:47.822Z"
   },
   {
    "duration": 0,
    "start_time": "2025-01-22T22:06:47.823Z"
   },
   {
    "duration": 0,
    "start_time": "2025-01-22T22:06:47.825Z"
   },
   {
    "duration": 0,
    "start_time": "2025-01-22T22:06:47.827Z"
   },
   {
    "duration": 0,
    "start_time": "2025-01-22T22:06:47.828Z"
   },
   {
    "duration": 541,
    "start_time": "2025-01-22T22:07:25.334Z"
   },
   {
    "duration": 891,
    "start_time": "2025-01-22T22:07:31.687Z"
   },
   {
    "duration": 518,
    "start_time": "2025-01-22T22:07:32.580Z"
   },
   {
    "duration": 891,
    "start_time": "2025-01-22T22:07:33.100Z"
   },
   {
    "duration": 0,
    "start_time": "2025-01-22T22:07:33.993Z"
   },
   {
    "duration": 0,
    "start_time": "2025-01-22T22:07:33.994Z"
   },
   {
    "duration": 0,
    "start_time": "2025-01-22T22:07:33.995Z"
   },
   {
    "duration": 0,
    "start_time": "2025-01-22T22:07:33.996Z"
   },
   {
    "duration": 0,
    "start_time": "2025-01-22T22:07:33.997Z"
   },
   {
    "duration": 0,
    "start_time": "2025-01-22T22:07:33.998Z"
   },
   {
    "duration": 0,
    "start_time": "2025-01-22T22:07:33.998Z"
   },
   {
    "duration": 0,
    "start_time": "2025-01-22T22:07:33.999Z"
   },
   {
    "duration": 0,
    "start_time": "2025-01-22T22:07:34.004Z"
   },
   {
    "duration": 0,
    "start_time": "2025-01-22T22:07:34.006Z"
   },
   {
    "duration": 4,
    "start_time": "2025-01-22T22:07:58.384Z"
   },
   {
    "duration": 536,
    "start_time": "2025-01-22T22:07:59.044Z"
   },
   {
    "duration": 885,
    "start_time": "2025-01-22T22:08:06.374Z"
   },
   {
    "duration": 803,
    "start_time": "2025-01-22T22:08:07.261Z"
   },
   {
    "duration": 0,
    "start_time": "2025-01-22T22:08:08.066Z"
   },
   {
    "duration": 0,
    "start_time": "2025-01-22T22:08:08.066Z"
   },
   {
    "duration": 0,
    "start_time": "2025-01-22T22:08:08.068Z"
   },
   {
    "duration": 0,
    "start_time": "2025-01-22T22:08:08.069Z"
   },
   {
    "duration": 0,
    "start_time": "2025-01-22T22:08:08.070Z"
   },
   {
    "duration": 0,
    "start_time": "2025-01-22T22:08:08.072Z"
   },
   {
    "duration": 0,
    "start_time": "2025-01-22T22:08:08.073Z"
   },
   {
    "duration": 0,
    "start_time": "2025-01-22T22:08:08.074Z"
   },
   {
    "duration": 0,
    "start_time": "2025-01-22T22:08:08.076Z"
   },
   {
    "duration": 0,
    "start_time": "2025-01-22T22:08:08.077Z"
   },
   {
    "duration": 0,
    "start_time": "2025-01-22T22:08:08.078Z"
   },
   {
    "duration": 518,
    "start_time": "2025-01-22T22:09:09.737Z"
   },
   {
    "duration": 471,
    "start_time": "2025-01-22T22:10:54.917Z"
   },
   {
    "duration": 578,
    "start_time": "2025-01-22T22:13:08.059Z"
   },
   {
    "duration": 944,
    "start_time": "2025-01-22T22:13:40.844Z"
   },
   {
    "duration": 886,
    "start_time": "2025-01-22T22:13:54.674Z"
   },
   {
    "duration": 1203,
    "start_time": "2025-01-22T22:13:55.562Z"
   },
   {
    "duration": 0,
    "start_time": "2025-01-22T22:13:56.767Z"
   },
   {
    "duration": 0,
    "start_time": "2025-01-22T22:13:56.768Z"
   },
   {
    "duration": 0,
    "start_time": "2025-01-22T22:13:56.769Z"
   },
   {
    "duration": 0,
    "start_time": "2025-01-22T22:13:56.770Z"
   },
   {
    "duration": 0,
    "start_time": "2025-01-22T22:13:56.771Z"
   },
   {
    "duration": 0,
    "start_time": "2025-01-22T22:13:56.771Z"
   },
   {
    "duration": 0,
    "start_time": "2025-01-22T22:13:56.772Z"
   },
   {
    "duration": 0,
    "start_time": "2025-01-22T22:13:56.773Z"
   },
   {
    "duration": 0,
    "start_time": "2025-01-22T22:13:56.775Z"
   },
   {
    "duration": 0,
    "start_time": "2025-01-22T22:13:56.775Z"
   },
   {
    "duration": 0,
    "start_time": "2025-01-22T22:13:56.777Z"
   },
   {
    "duration": 541,
    "start_time": "2025-01-22T22:14:33.582Z"
   },
   {
    "duration": 3,
    "start_time": "2025-01-22T22:15:02.109Z"
   },
   {
    "duration": 7,
    "start_time": "2025-01-22T22:15:07.900Z"
   },
   {
    "duration": 929,
    "start_time": "2025-01-22T22:15:14.713Z"
   },
   {
    "duration": 326,
    "start_time": "2025-01-22T22:15:24.152Z"
   },
   {
    "duration": 1005,
    "start_time": "2025-01-22T22:15:31.754Z"
   },
   {
    "duration": 661,
    "start_time": "2025-01-22T22:15:32.762Z"
   },
   {
    "duration": 3,
    "start_time": "2025-01-22T22:15:33.425Z"
   },
   {
    "duration": 8,
    "start_time": "2025-01-22T22:15:33.430Z"
   },
   {
    "duration": 1075,
    "start_time": "2025-01-22T22:15:33.440Z"
   },
   {
    "duration": 280,
    "start_time": "2025-01-22T22:15:34.517Z"
   },
   {
    "duration": 862,
    "start_time": "2025-01-22T22:15:34.799Z"
   },
   {
    "duration": 4,
    "start_time": "2025-01-22T22:15:35.663Z"
   },
   {
    "duration": 233,
    "start_time": "2025-01-22T22:15:35.669Z"
   },
   {
    "duration": 0,
    "start_time": "2025-01-22T22:15:35.906Z"
   },
   {
    "duration": 0,
    "start_time": "2025-01-22T22:15:35.907Z"
   },
   {
    "duration": 0,
    "start_time": "2025-01-22T22:15:35.908Z"
   },
   {
    "duration": 25,
    "start_time": "2025-01-22T22:21:44.597Z"
   },
   {
    "duration": 888,
    "start_time": "2025-01-22T22:22:16.947Z"
   },
   {
    "duration": 525,
    "start_time": "2025-01-22T22:22:17.837Z"
   },
   {
    "duration": 3,
    "start_time": "2025-01-22T22:22:18.364Z"
   },
   {
    "duration": 23,
    "start_time": "2025-01-22T22:22:18.369Z"
   },
   {
    "duration": 994,
    "start_time": "2025-01-22T22:22:18.406Z"
   },
   {
    "duration": 271,
    "start_time": "2025-01-22T22:22:19.405Z"
   },
   {
    "duration": 821,
    "start_time": "2025-01-22T22:22:19.678Z"
   },
   {
    "duration": 4,
    "start_time": "2025-01-22T22:22:20.504Z"
   },
   {
    "duration": 250,
    "start_time": "2025-01-22T22:22:20.510Z"
   },
   {
    "duration": 0,
    "start_time": "2025-01-22T22:22:20.763Z"
   },
   {
    "duration": 0,
    "start_time": "2025-01-22T22:22:20.764Z"
   },
   {
    "duration": 0,
    "start_time": "2025-01-22T22:22:20.765Z"
   },
   {
    "duration": 912,
    "start_time": "2025-01-22T22:24:09.643Z"
   },
   {
    "duration": 554,
    "start_time": "2025-01-22T22:24:10.557Z"
   },
   {
    "duration": 3,
    "start_time": "2025-01-22T22:24:11.112Z"
   },
   {
    "duration": 22,
    "start_time": "2025-01-22T22:24:11.118Z"
   },
   {
    "duration": 1001,
    "start_time": "2025-01-22T22:24:11.142Z"
   },
   {
    "duration": 245,
    "start_time": "2025-01-22T22:24:12.145Z"
   },
   {
    "duration": 839,
    "start_time": "2025-01-22T22:24:12.392Z"
   },
   {
    "duration": 3,
    "start_time": "2025-01-22T22:24:13.232Z"
   },
   {
    "duration": 243,
    "start_time": "2025-01-22T22:24:13.237Z"
   },
   {
    "duration": 0,
    "start_time": "2025-01-22T22:24:13.482Z"
   },
   {
    "duration": 0,
    "start_time": "2025-01-22T22:24:13.483Z"
   },
   {
    "duration": 3,
    "start_time": "2025-01-22T22:34:03.808Z"
   },
   {
    "duration": 885,
    "start_time": "2025-01-22T22:35:07.973Z"
   },
   {
    "duration": 552,
    "start_time": "2025-01-22T22:35:08.860Z"
   },
   {
    "duration": 3,
    "start_time": "2025-01-22T22:35:09.414Z"
   },
   {
    "duration": 996,
    "start_time": "2025-01-22T22:35:09.420Z"
   },
   {
    "duration": 248,
    "start_time": "2025-01-22T22:35:10.419Z"
   },
   {
    "duration": 832,
    "start_time": "2025-01-22T22:35:10.669Z"
   },
   {
    "duration": 3,
    "start_time": "2025-01-22T22:35:11.503Z"
   },
   {
    "duration": 3,
    "start_time": "2025-01-22T22:35:11.508Z"
   },
   {
    "duration": 251,
    "start_time": "2025-01-22T22:35:11.513Z"
   },
   {
    "duration": 0,
    "start_time": "2025-01-22T22:35:11.766Z"
   },
   {
    "duration": 22,
    "start_time": "2025-01-22T22:38:14.050Z"
   },
   {
    "duration": 720,
    "start_time": "2025-01-22T22:38:42.457Z"
   },
   {
    "duration": 2190,
    "start_time": "2025-01-22T22:40:27.147Z"
   },
   {
    "duration": 513,
    "start_time": "2025-01-22T22:41:31.819Z"
   },
   {
    "duration": 2323,
    "start_time": "2025-01-22T22:41:59.537Z"
   },
   {
    "duration": 508,
    "start_time": "2025-01-22T22:46:22.974Z"
   },
   {
    "duration": 31,
    "start_time": "2025-01-22T22:46:49.865Z"
   },
   {
    "duration": 42,
    "start_time": "2025-01-22T22:48:15.787Z"
   },
   {
    "duration": 9,
    "start_time": "2025-01-22T22:51:15.074Z"
   },
   {
    "duration": 3,
    "start_time": "2025-01-22T22:51:57.218Z"
   },
   {
    "duration": 893,
    "start_time": "2025-01-22T22:57:37.987Z"
   },
   {
    "duration": 515,
    "start_time": "2025-01-22T22:57:38.882Z"
   },
   {
    "duration": 28,
    "start_time": "2025-01-22T22:57:39.399Z"
   },
   {
    "duration": 48,
    "start_time": "2025-01-22T22:57:39.429Z"
   },
   {
    "duration": 932,
    "start_time": "2025-01-22T22:57:39.479Z"
   },
   {
    "duration": 0,
    "start_time": "2025-01-22T22:57:40.413Z"
   },
   {
    "duration": 0,
    "start_time": "2025-01-22T22:57:40.413Z"
   },
   {
    "duration": 1,
    "start_time": "2025-01-22T22:57:40.414Z"
   },
   {
    "duration": 0,
    "start_time": "2025-01-22T22:57:40.416Z"
   },
   {
    "duration": 0,
    "start_time": "2025-01-22T22:57:40.417Z"
   },
   {
    "duration": 0,
    "start_time": "2025-01-22T22:57:40.419Z"
   },
   {
    "duration": 0,
    "start_time": "2025-01-22T22:57:40.420Z"
   },
   {
    "duration": 0,
    "start_time": "2025-01-22T22:57:40.422Z"
   },
   {
    "duration": 0,
    "start_time": "2025-01-22T22:57:40.423Z"
   },
   {
    "duration": 0,
    "start_time": "2025-01-22T22:57:40.424Z"
   },
   {
    "duration": 0,
    "start_time": "2025-01-22T22:57:40.425Z"
   },
   {
    "duration": 0,
    "start_time": "2025-01-22T22:57:40.426Z"
   },
   {
    "duration": 865,
    "start_time": "2025-01-22T23:00:01.391Z"
   },
   {
    "duration": 534,
    "start_time": "2025-01-22T23:00:02.258Z"
   },
   {
    "duration": 32,
    "start_time": "2025-01-22T23:00:02.795Z"
   },
   {
    "duration": 43,
    "start_time": "2025-01-22T23:00:02.830Z"
   },
   {
    "duration": 3,
    "start_time": "2025-01-22T23:00:02.875Z"
   },
   {
    "duration": 909,
    "start_time": "2025-01-22T23:00:02.879Z"
   },
   {
    "duration": 0,
    "start_time": "2025-01-22T23:00:03.790Z"
   },
   {
    "duration": 0,
    "start_time": "2025-01-22T23:00:03.791Z"
   },
   {
    "duration": 0,
    "start_time": "2025-01-22T23:00:03.793Z"
   },
   {
    "duration": 0,
    "start_time": "2025-01-22T23:00:03.805Z"
   },
   {
    "duration": 0,
    "start_time": "2025-01-22T23:00:03.806Z"
   },
   {
    "duration": 0,
    "start_time": "2025-01-22T23:00:03.807Z"
   },
   {
    "duration": 0,
    "start_time": "2025-01-22T23:00:03.809Z"
   },
   {
    "duration": 0,
    "start_time": "2025-01-22T23:00:03.810Z"
   },
   {
    "duration": 0,
    "start_time": "2025-01-22T23:00:03.811Z"
   },
   {
    "duration": 0,
    "start_time": "2025-01-22T23:00:03.812Z"
   },
   {
    "duration": 0,
    "start_time": "2025-01-22T23:00:03.813Z"
   },
   {
    "duration": 928,
    "start_time": "2025-01-22T23:01:18.244Z"
   },
   {
    "duration": 520,
    "start_time": "2025-01-22T23:01:19.175Z"
   },
   {
    "duration": 34,
    "start_time": "2025-01-22T23:01:19.697Z"
   },
   {
    "duration": 57,
    "start_time": "2025-01-22T23:01:19.733Z"
   },
   {
    "duration": 10,
    "start_time": "2025-01-22T23:01:19.828Z"
   },
   {
    "duration": 3,
    "start_time": "2025-01-22T23:01:19.840Z"
   },
   {
    "duration": 956,
    "start_time": "2025-01-22T23:01:19.845Z"
   },
   {
    "duration": 0,
    "start_time": "2025-01-22T23:01:20.805Z"
   },
   {
    "duration": 0,
    "start_time": "2025-01-22T23:01:20.807Z"
   },
   {
    "duration": 0,
    "start_time": "2025-01-22T23:01:20.809Z"
   },
   {
    "duration": 0,
    "start_time": "2025-01-22T23:01:20.810Z"
   },
   {
    "duration": 0,
    "start_time": "2025-01-22T23:01:20.811Z"
   },
   {
    "duration": 0,
    "start_time": "2025-01-22T23:01:20.813Z"
   },
   {
    "duration": 0,
    "start_time": "2025-01-22T23:01:20.814Z"
   },
   {
    "duration": 0,
    "start_time": "2025-01-22T23:01:20.815Z"
   },
   {
    "duration": 0,
    "start_time": "2025-01-22T23:01:20.817Z"
   },
   {
    "duration": 0,
    "start_time": "2025-01-22T23:01:20.820Z"
   },
   {
    "duration": 0,
    "start_time": "2025-01-22T23:01:20.823Z"
   },
   {
    "duration": 966,
    "start_time": "2025-01-22T23:04:13.235Z"
   },
   {
    "duration": 510,
    "start_time": "2025-01-22T23:04:14.203Z"
   },
   {
    "duration": 30,
    "start_time": "2025-01-22T23:04:14.715Z"
   },
   {
    "duration": 58,
    "start_time": "2025-01-22T23:04:14.748Z"
   },
   {
    "duration": 9,
    "start_time": "2025-01-22T23:04:14.809Z"
   },
   {
    "duration": 4,
    "start_time": "2025-01-22T23:04:14.820Z"
   },
   {
    "duration": 3,
    "start_time": "2025-01-22T23:04:14.825Z"
   },
   {
    "duration": 3,
    "start_time": "2025-01-22T23:04:14.830Z"
   },
   {
    "duration": 20,
    "start_time": "2025-01-22T23:04:14.835Z"
   },
   {
    "duration": 3,
    "start_time": "2025-01-22T23:04:14.857Z"
   },
   {
    "duration": 2871,
    "start_time": "2025-01-22T23:04:14.862Z"
   },
   {
    "duration": 0,
    "start_time": "2025-01-22T23:04:17.735Z"
   },
   {
    "duration": 0,
    "start_time": "2025-01-22T23:04:17.736Z"
   },
   {
    "duration": 0,
    "start_time": "2025-01-22T23:04:17.738Z"
   },
   {
    "duration": 0,
    "start_time": "2025-01-22T23:04:17.739Z"
   },
   {
    "duration": 0,
    "start_time": "2025-01-22T23:04:17.740Z"
   },
   {
    "duration": 2234,
    "start_time": "2025-01-22T23:04:39.281Z"
   },
   {
    "duration": 2057,
    "start_time": "2025-01-22T23:05:03.899Z"
   },
   {
    "duration": 2128,
    "start_time": "2025-01-22T23:06:03.540Z"
   },
   {
    "duration": 2199,
    "start_time": "2025-01-22T23:07:41.625Z"
   },
   {
    "duration": 2206,
    "start_time": "2025-01-22T23:10:41.039Z"
   },
   {
    "duration": 2140,
    "start_time": "2025-01-22T23:10:55.346Z"
   },
   {
    "duration": 15,
    "start_time": "2025-01-22T23:13:13.009Z"
   },
   {
    "duration": 13,
    "start_time": "2025-01-22T23:13:50.059Z"
   },
   {
    "duration": 2464,
    "start_time": "2025-01-22T23:15:22.323Z"
   },
   {
    "duration": 2336,
    "start_time": "2025-01-22T23:16:59.246Z"
   },
   {
    "duration": 9,
    "start_time": "2025-01-22T23:22:01.476Z"
   },
   {
    "duration": 39,
    "start_time": "2025-01-22T23:22:39.779Z"
   },
   {
    "duration": 9,
    "start_time": "2025-01-22T23:22:43.794Z"
   },
   {
    "duration": 3,
    "start_time": "2025-01-22T23:22:46.091Z"
   },
   {
    "duration": 913,
    "start_time": "2025-01-22T23:23:05.142Z"
   },
   {
    "duration": 542,
    "start_time": "2025-01-22T23:23:06.058Z"
   },
   {
    "duration": 29,
    "start_time": "2025-01-22T23:23:06.604Z"
   },
   {
    "duration": 45,
    "start_time": "2025-01-22T23:23:06.635Z"
   },
   {
    "duration": 25,
    "start_time": "2025-01-22T23:23:06.683Z"
   },
   {
    "duration": 3,
    "start_time": "2025-01-22T23:23:06.710Z"
   },
   {
    "duration": 996,
    "start_time": "2025-01-22T23:23:06.715Z"
   },
   {
    "duration": 240,
    "start_time": "2025-01-22T23:23:07.713Z"
   },
   {
    "duration": 790,
    "start_time": "2025-01-22T23:23:07.955Z"
   },
   {
    "duration": 916,
    "start_time": "2025-01-22T23:28:20.889Z"
   },
   {
    "duration": 518,
    "start_time": "2025-01-22T23:28:21.807Z"
   },
   {
    "duration": 30,
    "start_time": "2025-01-22T23:28:22.327Z"
   },
   {
    "duration": 60,
    "start_time": "2025-01-22T23:28:22.358Z"
   },
   {
    "duration": 11,
    "start_time": "2025-01-22T23:28:22.422Z"
   },
   {
    "duration": 8,
    "start_time": "2025-01-22T23:28:22.434Z"
   },
   {
    "duration": 1017,
    "start_time": "2025-01-22T23:28:22.445Z"
   },
   {
    "duration": 262,
    "start_time": "2025-01-22T23:28:23.463Z"
   },
   {
    "duration": 817,
    "start_time": "2025-01-22T23:28:23.727Z"
   },
   {
    "duration": 3,
    "start_time": "2025-01-22T23:28:24.546Z"
   },
   {
    "duration": 3,
    "start_time": "2025-01-22T23:28:24.551Z"
   },
   {
    "duration": 231,
    "start_time": "2025-01-22T23:28:56.322Z"
   },
   {
    "duration": 2267,
    "start_time": "2025-01-22T23:31:19.187Z"
   },
   {
    "duration": 53,
    "start_time": "2025-01-22T23:43:11.901Z"
   },
   {
    "duration": 56,
    "start_time": "2025-01-22T23:43:36.630Z"
   },
   {
    "duration": 81,
    "start_time": "2025-01-22T23:46:10.334Z"
   },
   {
    "duration": 22,
    "start_time": "2025-01-22T23:47:41.473Z"
   },
   {
    "duration": 37154,
    "start_time": "2025-01-22T23:49:16.142Z"
   },
   {
    "duration": 545,
    "start_time": "2025-01-22T23:53:56.350Z"
   },
   {
    "duration": 103,
    "start_time": "2025-01-22T23:54:25.025Z"
   },
   {
    "duration": 29,
    "start_time": "2025-01-22T23:57:32.203Z"
   },
   {
    "duration": 59,
    "start_time": "2025-01-22T23:57:37.556Z"
   },
   {
    "duration": 59,
    "start_time": "2025-01-22T23:58:11.799Z"
   },
   {
    "duration": 100,
    "start_time": "2025-01-22T23:59:40.725Z"
   },
   {
    "duration": 124,
    "start_time": "2025-01-23T00:00:29.754Z"
   },
   {
    "duration": 47170,
    "start_time": "2025-01-23T00:02:33.893Z"
   },
   {
    "duration": 6,
    "start_time": "2025-01-23T00:05:46.261Z"
   },
   {
    "duration": 32,
    "start_time": "2025-01-23T00:07:30.579Z"
   },
   {
    "duration": 3,
    "start_time": "2025-01-23T00:07:30.880Z"
   },
   {
    "duration": 1028,
    "start_time": "2025-01-23T00:09:11.666Z"
   },
   {
    "duration": 1009,
    "start_time": "2025-01-23T00:11:17.285Z"
   },
   {
    "duration": 584,
    "start_time": "2025-01-23T00:11:44.724Z"
   },
   {
    "duration": 994,
    "start_time": "2025-01-23T00:13:16.531Z"
   },
   {
    "duration": 564,
    "start_time": "2025-01-23T00:13:17.528Z"
   },
   {
    "duration": 60,
    "start_time": "2025-01-23T00:13:18.093Z"
   },
   {
    "duration": 3,
    "start_time": "2025-01-23T00:13:18.155Z"
   },
   {
    "duration": 1139,
    "start_time": "2025-01-23T00:13:18.162Z"
   },
   {
    "duration": 272,
    "start_time": "2025-01-23T00:13:19.306Z"
   },
   {
    "duration": 962,
    "start_time": "2025-01-23T00:13:19.580Z"
   },
   {
    "duration": 32364,
    "start_time": "2025-01-23T00:13:20.544Z"
   },
   {
    "duration": 3,
    "start_time": "2025-01-23T00:15:03.656Z"
   },
   {
    "duration": 7498077,
    "start_time": "2025-01-23T00:15:05.002Z"
   },
   {
    "duration": 2602,
    "start_time": "2025-01-23T05:53:27.317Z"
   },
   {
    "duration": 647,
    "start_time": "2025-01-23T05:53:29.922Z"
   },
   {
    "duration": 41,
    "start_time": "2025-01-23T05:53:30.571Z"
   },
   {
    "duration": 4,
    "start_time": "2025-01-23T05:53:30.613Z"
   },
   {
    "duration": 1014,
    "start_time": "2025-01-23T05:53:30.619Z"
   },
   {
    "duration": 238,
    "start_time": "2025-01-23T05:53:31.635Z"
   },
   {
    "duration": 804,
    "start_time": "2025-01-23T05:53:31.875Z"
   },
   {
    "duration": 3,
    "start_time": "2025-01-23T05:53:32.681Z"
   },
   {
    "duration": 1053028,
    "start_time": "2025-01-23T05:53:32.685Z"
   }
  ],
  "kernelspec": {
   "display_name": "Python 3 (ipykernel)",
   "language": "python",
   "name": "python3"
  },
  "language_info": {
   "codemirror_mode": {
    "name": "ipython",
    "version": 3
   },
   "file_extension": ".py",
   "mimetype": "text/x-python",
   "name": "python",
   "nbconvert_exporter": "python",
   "pygments_lexer": "ipython3",
   "version": "3.9.19"
  },
  "toc": {
   "base_numbering": 1,
   "nav_menu": {},
   "number_sections": true,
   "sideBar": true,
   "skip_h1_title": true,
   "title_cell": "Table of Contents",
   "title_sidebar": "Contents",
   "toc_cell": false,
   "toc_position": {
    "height": "calc(100% - 180px)",
    "left": "10px",
    "top": "150px",
    "width": "257px"
   },
   "toc_section_display": true,
   "toc_window_display": true
  }
 },
 "nbformat": 4,
 "nbformat_minor": 2
}
